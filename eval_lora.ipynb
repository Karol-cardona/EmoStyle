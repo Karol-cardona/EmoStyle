{
 "cells": [
  {
   "cell_type": "code",
   "execution_count": null,
   "id": "initial_id",
   "metadata": {
    "collapsed": true
   },
   "outputs": [],
   "source": [
    "import json\n",
    "import numpy as np\n",
    "import pandas as pd\n",
    "import torch\n",
    "from pathlib import Path\n",
    "from tqdm import tqdm\n",
    "from nltk.translate.bleu_score import corpus_bleu, SmoothingFunction\n",
    "from rouge_score import rouge_scorer\n",
    "from transformers import CLIPProcessor, CLIPModel\n",
    "from PIL import Image"
   ]
  },
  {
   "metadata": {},
   "cell_type": "code",
   "outputs": [],
   "execution_count": null,
   "source": [
    "# 1) Carica il set di test\n",
    "recs = json.load(open(\"data/splits/test.json\", encoding=\"utf-8\"))\n",
    "# 2) Carica il tuo adapter pretrained\n",
    "from transformers import AutoTokenizer, AutoModelForCausalLM\n",
    "tokenizer = AutoTokenizer.from_pretrained(\"experiments/lora_llama\")\n",
    "model     = AutoModelForCausalLM.from_pretrained(\"experiments/lora_llama\").eval().to(\"cuda\")\n"
   ],
   "id": "37006225dfec5f24"
  },
  {
   "metadata": {},
   "cell_type": "code",
   "outputs": [],
   "execution_count": null,
   "source": [
    "# 2) Carica il tuo adapter pretrained\n",
    "from transformers import AutoTokenizer, AutoModelForCausalLM\n",
    "tokenizer = AutoTokenizer.from_pretrained(\"experiments/lora_llama\")\n",
    "model     = AutoModelForCausalLM.from_pretrained(\"experiments/lora_llama\").eval().to(\"cuda\")\n"
   ],
   "id": "b8f8d842e1143f6c"
  },
  {
   "metadata": {},
   "cell_type": "code",
   "outputs": [],
   "execution_count": null,
   "source": [
    "# 3) Genera le caption\n",
    "out = []\n",
    "smooth = SmoothingFunction().method1\n",
    "rouge  = rouge_scorer.RougeScorer([\"rougeL\"], use_stemmer=True)\n",
    "clip_processor = CLIPProcessor.from_pretrained(\"openai/clip-vit-base-patch32\")\n",
    "clip_model     = CLIPModel.from_pretrained(\"openai/clip-vit-base-patch32\").eval().to(\"cuda\")\n",
    "\n",
    "def compute_clip_score(img_path, text):\n",
    "    inputs = clip_processor(text=[text], images=[Image.open(img_path).convert(\"RGB\")],\n",
    "                            return_tensors=\"pt\", padding=True).to(\"cuda\")\n",
    "    with torch.no_grad():\n",
    "        out = clip_model(**inputs)\n",
    "    img_emb = out.image_embeds / out.image_embeds.norm(dim=-1,keepdim=True)\n",
    "    txt_emb = out.text_embeds  / out.text_embeds.norm(dim=-1,keepdim=True)\n",
    "    return (img_emb * txt_emb).sum().item()\n",
    "\n",
    "for r in tqdm(recs, total=len(recs)):\n",
    "    prompt = f\"Base caption: {r['caption']}\\nEmotion: {r['emotion']}\\nRewrite the above caption to fit the specified emotion:\"\n",
    "    inputs = tokenizer(prompt, return_tensors=\"pt\").to(\"cuda\")\n",
    "    gen_ids = model.generate(**inputs, max_length=40, temperature=0.7)\n",
    "    pred    = tokenizer.decode(gen_ids[0], skip_special_tokens=True)\n",
    "\n",
    "    out.append({\n",
    "        \"img_name\": r[\"img_name\"],\n",
    "        \"gold\":     r[\"caption\"],\n",
    "        \"pred\":     pred,\n",
    "        \"emotion\":  r[\"emotion\"]\n",
    "    })\n",
    "\n",
    "df = pd.DataFrame(out)\n",
    "df.to_csv(\"results/lora_test_preds.csv\", index=False)"
   ],
   "id": "9dbd25ed53990976"
  },
  {
   "metadata": {},
   "cell_type": "code",
   "outputs": [],
   "execution_count": null,
   "source": [
    "#  4) Calcola BLEU/ROUGE/CLIPScore per ciascun modello\n",
    "refs = [[g.split()] for g in df.gold]\n",
    "hyps = df.pred.tolist()\n",
    "\n",
    "bleu4 = corpus_bleu(refs, [h.split() for h in hyps],\n",
    "                    weights=(0.25,)*4, smoothing_function=smooth)\n",
    "rougeL = np.mean([rouge.score(r, h)[\"rougeL\"].fmeasure\n",
    "                  for r,h in zip(df.gold, df.pred)])\n",
    "clip_scores = [compute_clip_score(Path(\"data/images\")/img, txt)\n",
    "               for img,txt in zip(df.img_name, df.pred)]\n",
    "clip_mean   = float(np.round(np.mean(clip_scores),4))\n",
    "\n",
    "print(f\"LoRA → BLEU-4: {bleu4:.4f}  ROUGE-L: {rougeL:.4f}  CLIPScore: {clip_mean:.4f}\")"
   ],
   "id": "5a5d408ed584bd2e"
  }
 ],
 "metadata": {
  "kernelspec": {
   "display_name": "Python 3",
   "language": "python",
   "name": "python3"
  },
  "language_info": {
   "codemirror_mode": {
    "name": "ipython",
    "version": 2
   },
   "file_extension": ".py",
   "mimetype": "text/x-python",
   "name": "python",
   "nbconvert_exporter": "python",
   "pygments_lexer": "ipython2",
   "version": "2.7.6"
  }
 },
 "nbformat": 4,
 "nbformat_minor": 5
}
