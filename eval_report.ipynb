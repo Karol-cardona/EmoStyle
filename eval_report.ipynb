{
 "cells": [
  {
   "metadata": {
    "collapsed": true,
    "ExecuteTime": {
     "end_time": "2025-06-10T19:23:54.550179Z",
     "start_time": "2025-06-10T19:23:54.542548Z"
    }
   },
   "cell_type": "code",
   "source": [
    "import json, pandas as pd\n",
    "import torch\n",
    "import numpy as np\n",
    "from PIL import Image\n",
    "from pathlib import Path\n",
    "from tqdm import tqdm\n",
    "\n",
    "import matplotlib.pyplot as plt\n",
    "import seaborn as sns\n",
    "\n",
    "from generate import blip_caption, build_prompt, llama_generate\n",
    "from nltk.translate.bleu_score import corpus_bleu, SmoothingFunction\n",
    "from rouge_score import rouge_scorer\n",
    "from transformers import CLIPProcessor, CLIPModel\n"
   ],
   "id": "initial_id",
   "outputs": [],
   "execution_count": 5
  },
  {
   "metadata": {},
   "cell_type": "markdown",
   "source": "## Generazione prestazioni complete",
   "id": "a2f39b9faa3593ed"
  },
  {
   "metadata": {
    "ExecuteTime": {
     "end_time": "2025-06-10T20:03:29.721237Z",
     "start_time": "2025-06-10T19:23:54.576301Z"
    }
   },
   "cell_type": "code",
   "source": [
    "# Assicurati che la cartella results/ esista\n",
    "Path(\"results\").mkdir(parents=True, exist_ok=True)\n",
    "\n",
    "# Carica l’intero test set\n",
    "with open(\"data/splits/test.json\", encoding=\"utf-8\") as f:\n",
    "    recs = json.load(f)\n",
    "\n",
    "rows = []\n",
    "for r in tqdm(recs, desc=\"Generating all captions\", total=len(recs)):\n",
    "    img_path = r[\"img_name\"]\n",
    "    emo      = r[\"emotion\"]\n",
    "    gold     = r[\"caption\"]\n",
    "\n",
    "    # 1) Predizione “emozionale” via LLaMA+Ollama\n",
    "    prompt = build_prompt(r)\n",
    "    try:\n",
    "        pred = llama_generate(\n",
    "            prompt=prompt,\n",
    "            model=\"llama3.2\",\n",
    "            temperature=0.7,\n",
    "            max_length=40\n",
    "        )\n",
    "    except Exception as e:\n",
    "        print(f\"Errore su {img_path}: {e}\")\n",
    "        pred = \"\"\n",
    "\n",
    "    # 2) Baseline 1: template statico\n",
    "    baseline1 = f\"This picture makes me feel {emo.lower()} because of what I see.\"\n",
    "\n",
    "    # 3) Baseline 2: BLIP “vanilla”\n",
    "    try:\n",
    "        baseline2 = blip_caption(img_path)\n",
    "    except Exception as e:\n",
    "        print(f\"Errore BLIP su {img_path}: {e}\")\n",
    "        baseline2 = \"\"\n",
    "\n",
    "    rows.append({\n",
    "        \"img_name\":   Path(img_path).name,\n",
    "        \"gold\":       gold,\n",
    "        \"pred\":       pred,\n",
    "        \"baseline1\":  baseline1,\n",
    "        \"baseline2\":  baseline2,\n",
    "        \"emotion\":    emo\n",
    "    })\n",
    "\n",
    "# Costruisci il DataFrame e salva il CSV definitivo\n",
    "df = pd.DataFrame(rows)\n",
    "out_path = Path(\"results\") / \"test_predictions.csv\"\n",
    "df.to_csv(out_path, index=False, encoding=\"utf-8-sig\")\n",
    "print(f\"Salvato {len(df)} righe → {out_path}\")\n"
   ],
   "id": "6438947d3e32cf76",
   "outputs": [
    {
     "name": "stderr",
     "output_type": "stream",
     "text": [
      "Generating all captions: 100%|██████████| 384/384 [39:35<00:00,  6.19s/it]"
     ]
    },
    {
     "name": "stdout",
     "output_type": "stream",
     "text": [
      "Salvato 384 righe → results\\test_predictions.csv\n"
     ]
    },
    {
     "name": "stderr",
     "output_type": "stream",
     "text": [
      "\n"
     ]
    }
   ],
   "execution_count": 6
  },
  {
   "metadata": {},
   "cell_type": "markdown",
   "source": "## Calcolo delle metriche automatiche",
   "id": "9d1d01f1a2e6c1a3"
  },
  {
   "metadata": {
    "ExecuteTime": {
     "end_time": "2025-06-10T20:10:46.441968Z",
     "start_time": "2025-06-10T20:09:40.754355Z"
    }
   },
   "cell_type": "code",
   "source": [
    "# Carica DataFrame con tutte le caption\n",
    "df = pd.read_csv(\"results/test_predictions.csv\")\n",
    "\n",
    "refs = list(df[\"gold\"])\n",
    "hyps_dict = {\n",
    "    \"pred\":      list(df[\"pred\"]),\n",
    "    \"baseline1\": list(df[\"baseline1\"]),\n",
    "    \"baseline2\": list(df[\"baseline2\"])\n",
    "}\n",
    "\n",
    "# Inizializza BLEU e ROUGE\n",
    "smooth_fn = SmoothingFunction().method1\n",
    "rouge = rouge_scorer.RougeScorer([\"rougeL\"], use_stemmer=True)\n",
    "\n",
    "# Inizializza CLIP\n",
    "clip_processor = CLIPProcessor.from_pretrained(\"openai/clip-vit-base-patch32\", use_fast=True)\n",
    "clip_model     = CLIPModel.from_pretrained(\"openai/clip-vit-base-patch32\", use_safetensors=True).eval()\n",
    "if torch.cuda.is_available():\n",
    "    clip_model.cuda()\n",
    "\n",
    "def compute_clip_scores(image_paths, texts, batch_size=16):\n",
    "    sims = []\n",
    "    for i in range(0, len(texts), batch_size):\n",
    "        batch_imgs = [Image.open(p).convert(\"RGB\") for p in image_paths[i : i+batch_size]]\n",
    "        batch_txt  = texts[i : i+batch_size]\n",
    "\n",
    "        # 1) Tokenizza i testi\n",
    "        text_inputs = clip_processor.tokenizer(\n",
    "            batch_txt,\n",
    "            padding=True,\n",
    "            truncation=True,\n",
    "            return_tensors=\"pt\"\n",
    "        )\n",
    "\n",
    "        # 2) Processa le immagini con il nuovo metodo image_processor\n",
    "        image_inputs = clip_processor.image_processor(\n",
    "            images=batch_imgs,\n",
    "            return_tensors=\"pt\"\n",
    "        )\n",
    "\n",
    "        # 3) Unisci i due dizionari\n",
    "        inputs = {**text_inputs, **image_inputs}\n",
    "\n",
    "        if torch.cuda.is_available():\n",
    "            inputs = {k: v.cuda() for k, v in inputs.items()}\n",
    "\n",
    "        # 4) Inferenza CLIP\n",
    "        with torch.no_grad():\n",
    "            out = clip_model(**inputs)\n",
    "\n",
    "        img_emb = out.image_embeds / out.image_embeds.norm(dim=-1, keepdim=True)\n",
    "        txt_emb = out.text_embeds  / out.text_embeds.norm(dim=-1, keepdim=True)\n",
    "        sims.append((img_emb * txt_emb).sum(dim=-1).cpu().numpy())\n",
    "\n",
    "    return np.concatenate(sims)\n",
    "\n",
    "# Prepara i path delle immagini\n",
    "img_paths = [\n",
    "    fn if Path(fn).exists() else str(Path(\"data/images\") / fn)\n",
    "    for fn in df[\"img_name\"]\n",
    "]\n",
    "\n",
    "# Calcola le metriche per ogni modello\n",
    "results = []\n",
    "for name, hyps in hyps_dict.items():\n",
    "    # BLEU-4\n",
    "    token_refs = [[r.split()] for r in refs]\n",
    "    token_hyps = [h.split()      for h in hyps]\n",
    "    bleu4 = corpus_bleu(token_refs, token_hyps,\n",
    "                        weights=(0.25,)*4,\n",
    "                        smoothing_function=smooth_fn)\n",
    "    # ROUGE-L\n",
    "    rouge_l = np.mean([\n",
    "        rouge.score(r, h)[\"rougeL\"].fmeasure\n",
    "        for r, h in zip(refs, hyps)\n",
    "    ])\n",
    "    # CLIPScore\n",
    "    clip_scores = compute_clip_scores(img_paths, hyps)\n",
    "    clip_mean   = float(np.round(clip_scores.mean(), 4))\n",
    "\n",
    "    results.append({\n",
    "        \"Model\":     name,\n",
    "        \"BLEU-4\":    round(bleu4, 4),\n",
    "        \"ROUGE-L\":   round(rouge_l, 4),\n",
    "        \"CLIPScore\": clip_mean\n",
    "    })\n",
    "\n",
    "# Mostra il DataFrame finale\n",
    "metrics_df = pd.DataFrame(results).set_index(\"Model\")\n",
    "print(metrics_df)\n"
   ],
   "id": "eedb7526725cbac3",
   "outputs": [
    {
     "name": "stdout",
     "output_type": "stream",
     "text": [
      "           BLEU-4  ROUGE-L  CLIPScore\n",
      "Model                                \n",
      "pred       0.0004   0.0672     0.2468\n",
      "baseline1  0.0007   0.0216     0.1957\n",
      "baseline2  0.0028   0.1492     0.2651\n"
     ]
    }
   ],
   "execution_count": 10
  },
  {
   "metadata": {},
   "cell_type": "markdown",
   "source": [
    "## Analisi delle Metriche Automatiche\n",
    "\n",
    "Di seguito la tabella riassuntiva delle metriche calcolate sul test set completo (N=384):\n",
    "\n",
    "| Model      | BLEU-4  | ROUGE-L | CLIPScore |\n",
    "|------------|---------|---------|-----------|\n",
    "| **pred**       | 0.0004  | 0.0672  | 0.2468    |\n",
    "| **baseline1**  | 0.0007  | 0.0216  | 0.1957    |\n",
    "| **baseline2**  | 0.0028  | 0.1492  | 0.2651    |\n",
    "\n",
    "### 1. BLEU-4\n",
    "- **baseline2 (BLIP “vanilla”)** ottiene il punteggio più alto (0.0028), seguita da **baseline1** (0.0007) e infine dalle caption emotive **pred** (0.0004).\n",
    "- I valori assoluti sono molto bassi (ordine di 10⁻³), tipico negli scenari di image-captioning, dove la generazione libera raramente riproduce parola per parola la caption di riferimento.\n",
    "\n",
    "### 2. ROUGE-L\n",
    "- Anche per ROUGE-L vince **baseline2** (0.1492), che conserva più lunghe sottosequenze rispetto al gold.\n",
    "- **pred** (0.0672) supera comunque la semplice frase template **baseline1** (0.0216), indicando che LLaMA riesce a mantenere almeno alcune frasi o parole comuni con la didascalia originale, pur inserendo l’elemento emozionale.\n",
    "\n",
    "### 3. CLIPScore\n",
    "- **baseline2** è ancora prima (0.2651), riflettendo la forte coerenza immagine-testo di un modello addestrato specificamente per captioning.\n",
    "- Le **pred** (0.2468) si comportano bene: pur sacrificando un po’ di “fedeltà visiva” per inserire il vincolo emozionale, mantengono un buon allineamento visivo (CLIPScore ≈ 0.25).\n",
    "- **baseline1** (0.1957) è nettamente più bassa, confermando che una frase statica genera la minore corrispondenza visiva.\n",
    "\n",
    "---\n",
    "\n",
    "## Conclusioni e Spunti\n",
    "\n",
    "1. **Trade-off Creatività vs. Accuratezza**\n",
    "   - Le caption **pred** mostrano un calo netto su BLEU-4 e ROUGE-L rispetto a baseline2, perché privilegiano la componente stilistica/emotiva a scapito del wording “oggettivo”.\n",
    "   - Tuttavia, il CLIPScore rimane accettabile (solo ~7% sotto baseline2), segno che il modello non perde completamente l’allineamento con la scena visiva.\n",
    "\n",
    "2. **Limiti della Template Static**\n",
    "   - **Baseline1** ottiene valori molto bassi in tutte le metriche, mettendo in luce che una frase rigida non riesce né a riprodurre dettagli del gold né a mantenere coerenza visiva.\n",
    "\n",
    "3. **Prossimi Passi**\n",
    "   - **Regolazione dei Prompt**: ridurre la temperatura o aggiungere istruzioni (“mantieni almeno X oggetti visivi chiave”) per migliorare overlap e ROUGE.\n",
    "   - **Fine-Tuning**: utilizzare LoRA su LLaMA per ancorare meglio la generazione ai dati specifici, riducendo le allucinazioni di contenuto.\n",
    "   - **Data Augmentation**: con parafrasi del gold, per aiutare il modello a riconoscere varianti lessicali del riferimento e aumentare BLEU/ROUGE.\n",
    "\n",
    "> **In sintesi**, se l’obiettivo prioritario è massimizzare la similarità col gold o la coerenza visiva, BLIP “vanilla” rimane la scelta migliore. Tuttavia, il sistema condizionato a emozione introduce un elemento stilistico che, nonostante il lieve calo automatico, potrà dimostrarsi prezioso in termini di **coinvolgimento e creatività** nella valutazione umana.```\n"
   ],
   "id": "ed49622c853bd608"
  },
  {
   "metadata": {},
   "cell_type": "markdown",
   "source": "## Grafico confronto metriche",
   "id": "c399b42acc08b41e"
  },
  {
   "metadata": {
    "ExecuteTime": {
     "end_time": "2025-06-10T20:13:11.516424Z",
     "start_time": "2025-06-10T20:13:11.276418Z"
    }
   },
   "cell_type": "code",
   "source": [
    "# Partiamo dal DataFrame metrics_df ottenuto in CELL 4\n",
    "# Se non è in memoria, ricaricalo così:\n",
    "# metrics_df = pd.read_csv(\"results/metrics_summary.csv\", index_col=\"Model\")\n",
    "\n",
    "# Trasformazione per seaborn\n",
    "plot_df = metrics_df.reset_index().melt(\n",
    "    id_vars=\"Model\",\n",
    "    var_name=\"Metric\",\n",
    "    value_name=\"Score\"\n",
    ")\n",
    "\n",
    "plt.figure(figsize=(8, 5))\n",
    "sns.barplot(\n",
    "    data=plot_df,\n",
    "    x=\"Metric\",\n",
    "    y=\"Score\",\n",
    "    hue=\"Model\"\n",
    ")\n",
    "plt.title(\"Confronto delle metriche automatiche\")\n",
    "plt.ylabel(\"Valore\")\n",
    "plt.xlabel(\"\")\n",
    "plt.legend(title=\"Modello\")\n",
    "plt.tight_layout()\n",
    "plt.show()\n"
   ],
   "id": "b0046ecb98a55b6b",
   "outputs": [
    {
     "data": {
      "text/plain": [
       "<Figure size 800x500 with 1 Axes>"
      ],
      "image/png": "[encoded data removed]"
     },
     "metadata": {},
     "output_type": "display_data"
    }
   ],
   "execution_count": 11
  },
  {
   "metadata": {},
   "cell_type": "markdown",
   "source": [
    "## Commento al Grafico di Confronto delle Metriche Automatiche\n",
    "\n",
    "![Confronto delle metriche automatiche](attachment:7f02ff54-b6a2-4c46-8814-d1a603316050.png)\n",
    "\n",
    "1. **BLEU-4**\n",
    "   - Tutti i modelli ottengono valori prossimi a zero (ordine di 10⁻³), perché riprodurre esattamente le stesse n-gram del gold in image-captioning è estremamente difficile.\n",
    "   - **baseline2 (BLIP “vanilla”)** si distingue leggermente (verde), mentre **pred** (blu) e **baseline1** (marrone) sono praticamente sovrapposti sul valore minimo.\n",
    "\n",
    "2. **ROUGE-L**\n",
    "   - Qui si vede chiaramente la differenza tra i tre approcci:\n",
    "     - **baseline2** (verde) guida con un punteggio di circa **0.15**, a indicare la maggiore lunghezza di sottosequenze comuni tra la caption BLIP “standard” e il gold.\n",
    "     - **pred** (blu) si posiziona a **0.067**, più del triplo di **baseline1** (⚙️ ~0.022), grazie alla capacità di LLaMA di riprendere almeno qualche token chiave del gold, oltre al vincolo emotivo.\n",
    "     - **baseline1** (marrone), con la semplice frase template, ha il punteggio più basso.\n",
    "\n",
    "3. **CLIPScore**\n",
    "   - Anche per la similarità immagine-testo CLIPScore vincono le caption BLIP “vanilla” (**baseline2 ≈ 0.265**).\n",
    "   - Le **pred** (blu) mantengono un buon livello di coerenza visiva (**≈ 0.247**), circa 7% sotto la baseline2, ma ben distanziate dalle statiche **baseline1** (**≈ 0.196**).\n",
    "\n",
    "---\n",
    "\n",
    "### Spunti per il Report\n",
    "\n",
    "- **Trade-off Creatività vs. “Fedeltà” Visiva**\n",
    "  Le caption condizionate a emozione (“pred”) cadono leggermente dietro BLIP “vanilla” in tutte le metriche automatiche, ma superano nettamente il template statico “This picture makes me feel…”.\n",
    "- **Obiettivo di Miglioramento**\n",
    "  - **Prompt Engineering**: inserire istruzioni più vincolanti (es. “Men­ziona almeno due oggetti chiave oltre all’emozione”) per avvicinare BLEU/ROUGE al gold.\n",
    "  - **Fine-Tuning LoRA**: ridurre le allucinazioni e ancorare meglio la generazione al contenuto visivo, cercando di recuperare parte della “fedeltà” alla scena.\n",
    "- **Interpretazione Pratica**\n",
    "  Anche se il punteggio automatico di **pred** è inferiore a BLIP “vanilla”, il valore aggiunto sta nell’**espressività emotiva**, che non è catturabile da BLEU/ROUGE/CLIPScore ma potrà emergere in una valutazione qualitativa o umana.\n",
    "\n",
    "Questi risultati confermano che **baseline2** è la scelta migliore per massimizzare le metriche automatiche, ma il tuo sistema **pred** introduce uno stile più narrativo ed emotivo, con un calo accettabile di performance “oggettive”.```\n"
   ],
   "id": "2c845081b097f297"
  }
 ],
 "metadata": {
  "kernelspec": {
   "display_name": "Python 3",
   "language": "python",
   "name": "python3"
  },
  "language_info": {
   "codemirror_mode": {
    "name": "ipython",
    "version": 2
   },
   "file_extension": ".py",
   "mimetype": "text/x-python",
   "name": "python",
   "nbconvert_exporter": "python",
   "pygments_lexer": "ipython2",
   "version": "2.7.6"
  }
 },
 "nbformat": 4,
 "nbformat_minor": 5
}
