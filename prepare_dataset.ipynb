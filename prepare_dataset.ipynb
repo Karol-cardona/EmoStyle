{
 "cells": [
  {
   "metadata": {
    "ExecuteTime": {
     "end_time": "2025-06-10T16:51:58.638177Z",
     "start_time": "2025-06-10T16:51:58.629351Z"
    }
   },
   "cell_type": "code",
   "source": [
    "import os\n",
    "import pathlib\n",
    "import json\n",
    "import pandas as pd\n",
    "import matplotlib.pyplot as plt\n",
    "import collections\n",
    "\n",
    "from sklearn.model_selection import train_test_split"
   ],
   "id": "9f88e5887ed3a5a8",
   "outputs": [],
   "execution_count": 2
  },
  {
   "cell_type": "code",
   "id": "initial_id",
   "metadata": {
    "collapsed": true,
    "ExecuteTime": {
     "end_time": "2025-06-10T16:51:58.650305Z",
     "start_time": "2025-06-10T16:51:58.645096Z"
    }
   },
   "source": [
    "DATA_RAW   = \"data/raw/emoattcap\"\n",
    "DATA_IMG   = \"data/images\"\n",
    "SPLIT_DIR  = pathlib.Path(\"data/splits\")\n",
    "SPLIT_DIR.mkdir(exist_ok=True)\n",
    "\n",
    "pathlib.Path(SPLIT_DIR).mkdir(parents=True, exist_ok=True)"
   ],
   "outputs": [],
   "execution_count": 3
  },
  {
   "metadata": {
    "ExecuteTime": {
     "end_time": "2025-06-10T16:51:59.261031Z",
     "start_time": "2025-06-10T16:51:59.226158Z"
    }
   },
   "cell_type": "code",
   "source": [
    "# Load CSV and rename columns for consistency\n",
    "csv_path = pathlib.Path(DATA_RAW) / \"emo-at-cap.csv\"\n",
    "dataframe = pd.read_csv(csv_path).rename(columns={\n",
    "    \"image_name\":      \"img_name\",\n",
    "    \"annotation\":      \"caption\",\n",
    "    \"human_sentiment\": \"emotion\"\n",
    "})\n",
    "print(\"Columns present:\", dataframe.columns.tolist())\n"
   ],
   "id": "83ad954ce55316e0",
   "outputs": [
    {
     "name": "stdout",
     "output_type": "stream",
     "text": [
      "Columns present: ['img_name', 'caption', 'emotion', 'sentiment']\n"
     ]
    }
   ],
   "execution_count": 4
  },
  {
   "metadata": {
    "ExecuteTime": {
     "end_time": "2025-06-10T16:51:59.691302Z",
     "start_time": "2025-06-10T16:51:59.293095Z"
    }
   },
   "cell_type": "code",
   "source": [
    "# Build full image paths and apply basic filters\n",
    "\n",
    "# prepend the DATA_IMG path to each filename\n",
    "dataframe[\"img_name\"] = dataframe[\"img_name\"].apply(lambda n: pathlib.Path(DATA_IMG) / n)\n",
    "print(\"Initial total:\", len(dataframe))\n",
    "\n",
    "# filter out empty captions\n",
    "dataframe = dataframe[dataframe[\"caption\"].str.strip().ne(\"\")]\n",
    "print(\"After caption:\", len(dataframe))\n",
    "\n",
    "# filter out records whose image file doesn’t exist\n",
    "valid_imgs = set(os.listdir(DATA_IMG))\n",
    "dataframe = dataframe[dataframe[\"img_name\"].apply(lambda p: p.name in valid_imgs)]\n",
    "dataframe = dataframe[dataframe[\"img_name\"].apply(lambda p: p.exists())].reset_index(drop=True)\n",
    "\n",
    "print(\"After image check:\", len(dataframe))"
   ],
   "id": "6197a3bbb09ef1d3",
   "outputs": [
    {
     "name": "stdout",
     "output_type": "stream",
     "text": [
      "Initial total: 3840\n",
      "After caption: 3840\n",
      "After image check: 3840\n"
     ]
    }
   ],
   "execution_count": 5
  },
  {
   "metadata": {
    "ExecuteTime": {
     "end_time": "2025-06-10T16:51:59.945904Z",
     "start_time": "2025-06-10T16:51:59.705453Z"
    }
   },
   "cell_type": "code",
   "source": [
    "# Plot emotion distribution\n",
    "order = [\"Negative\", \"Neutral\", \"Positive\"]\n",
    "dataframe[\"emotion\"].value_counts().reindex(order).plot(\n",
    "    kind=\"bar\",\n",
    "    figsize=(6,3),\n",
    "    color=[\"#d62728\", \"#1f77b4\", \"#2ca02c\"]\n",
    ")\n",
    "\n",
    "plt.title(\"Distribuzione Emozioni (tutti i record)\")\n",
    "plt.xlabel(\"Emotion\")\n",
    "plt.ylabel(\"Count\")\n",
    "plt.tight_layout()\n",
    "plt.grid(True)\n",
    "plt.savefig(\"results/emotion_distribution.png\")\n",
    "plt.show()"
   ],
   "id": "bc63159477d6a2a1",
   "outputs": [
    {
     "data": {
      "text/plain": [
       "<Figure size 600x300 with 1 Axes>"
      ],
      "image/png": "[encoded data removed]"
     },
     "metadata": {},
     "output_type": "display_data"
    }
   ],
   "execution_count": 6
  },
  {
   "metadata": {
    "ExecuteTime": {
     "end_time": "2025-06-10T16:52:00.025253Z",
     "start_time": "2025-06-10T16:51:59.959925Z"
    }
   },
   "cell_type": "code",
   "source": [
    "# Stratified 80/10/10 split\n",
    "train_df, temp_df = train_test_split(dataframe, test_size=0.20,\n",
    "                                     stratify=dataframe[\"emotion\"], random_state=42)\n",
    "val_df, test_df = train_test_split(temp_df, test_size=0.50,\n",
    "                                   stratify=temp_df[\"emotion\"], random_state=42)\n",
    "\n",
    "# Save each split as JSON\n",
    "for name, split_df in [(\"train\", train_df),\n",
    "                       (\"val\",   val_df),\n",
    "                       (\"test\",  test_df)]:\n",
    "    out_df = split_df.copy()\n",
    "    # converte i Path in stringhe\n",
    "    out_df[\"img_name\"] = out_df[\"img_name\"].astype(str)\n",
    "\n",
    "    records = out_df[[\"img_name\",\"caption\",\"emotion\"]] \\\n",
    "        .to_dict(orient=\"records\")\n",
    "\n",
    "    out_path = SPLIT_DIR / f\"{name}.json\"\n",
    "    with open(out_path, \"w\", encoding=\"utf-8\") as f:\n",
    "        json.dump(records, f, ensure_ascii=False, indent=2)\n",
    "    print(f\"{name.upper():5s}: {len(records):4d} esempi salvati in {out_path}\")"
   ],
   "id": "7505aa3d708b5174",
   "outputs": [
    {
     "name": "stdout",
     "output_type": "stream",
     "text": [
      "TRAIN: 3072 esempi salvati in data\\splits\\train.json\n",
      "VAL  :  384 esempi salvati in data\\splits\\val.json\n",
      "TEST :  384 esempi salvati in data\\splits\\test.json\n"
     ]
    }
   ],
   "execution_count": 7
  },
  {
   "metadata": {
    "ExecuteTime": {
     "end_time": "2025-06-10T16:52:00.115638Z",
     "start_time": "2025-06-10T16:52:00.050897Z"
    }
   },
   "cell_type": "code",
   "source": [
    "# Verify splits by counting emotions\n",
    "def count_emotions(json_file):\n",
    "    with open(json_file, encoding=\"utf-8\") as f:\n",
    "        data = json.load(f)\n",
    "    return collections.Counter(r[\"emotion\"] for r in data)\n",
    "\n",
    "for split in [\"train\",\"val\",\"test\"]:\n",
    "    cnt = count_emotions(pathlib.Path(SPLIT_DIR) / f\"{split}.json\")\n",
    "    print(f\"{split.capitalize():<5} ⇒\", dict(cnt))\n",
    "\n",
    "print(\"\\nImages directory:\", len(os.listdir(DATA_IMG)), \"file JPG\")\n"
   ],
   "id": "b835d8e4d6c569cc",
   "outputs": [
    {
     "name": "stdout",
     "output_type": "stream",
     "text": [
      "Train ⇒ {'Negative': 1224, 'Positive': 1630, 'Neutral': 218}\n",
      "Val   ⇒ {'Positive': 204, 'Negative': 153, 'Neutral': 27}\n",
      "Test  ⇒ {'Negative': 153, 'Positive': 203, 'Neutral': 28}\n",
      "\n",
      "Images directory: 3840 file JPG\n"
     ]
    }
   ],
   "execution_count": 8
  }
 ],
 "metadata": {
  "kernelspec": {
   "display_name": "Python 3",
   "language": "python",
   "name": "python3"
  },
  "language_info": {
   "codemirror_mode": {
    "name": "ipython",
    "version": 2
   },
   "file_extension": ".py",
   "mimetype": "text/x-python",
   "name": "python",
   "nbconvert_exporter": "python",
   "pygments_lexer": "ipython2",
   "version": "2.7.6"
  }
 },
 "nbformat": 4,
 "nbformat_minor": 5
}
