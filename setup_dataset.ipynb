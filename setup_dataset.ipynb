{
 "cells": [
  {
   "metadata": {
    "ExecuteTime": {
     "end_time": "2025-05-28T09:30:05.203915Z",
     "start_time": "2025-05-28T09:30:05.190139Z"
    }
   },
   "cell_type": "code",
   "source": [
    "import os\n",
    "import pathlib\n",
    "import json\n",
    "import pandas as pd\n",
    "import matplotlib.pyplot as plt\n",
    "import collections\n",
    "\n",
    "from sklearn.model_selection import train_test_split"
   ],
   "id": "9f88e5887ed3a5a8",
   "outputs": [],
   "execution_count": 78
  },
  {
   "cell_type": "code",
   "id": "initial_id",
   "metadata": {
    "collapsed": true,
    "ExecuteTime": {
     "end_time": "2025-05-28T09:30:06.131306Z",
     "start_time": "2025-05-28T09:30:06.117526Z"
    }
   },
   "source": [
    "DATA_RAW   = \"data/raw/emoattcap\"\n",
    "DATA_IMG   = \"data/images\"\n",
    "SPLIT_DIR  = pathlib.Path(\"data/splits\")\n",
    "SPLIT_DIR.mkdir(exist_ok=True)\n",
    "\n",
    "pathlib.Path(SPLIT_DIR).mkdir(parents=True, exist_ok=True)"
   ],
   "outputs": [],
   "execution_count": 79
  },
  {
   "metadata": {
    "ExecuteTime": {
     "end_time": "2025-05-28T09:30:06.813443Z",
     "start_time": "2025-05-28T09:30:06.785624Z"
    }
   },
   "cell_type": "code",
   "source": [
    "# Load CSV and rename columns for consistency\n",
    "csv_path = pathlib.Path(DATA_RAW) / \"emo-at-cap.csv\"\n",
    "dataframe = pd.read_csv(csv_path).rename(columns={\n",
    "    \"image_name\":      \"img_name\",\n",
    "    \"annotation\":      \"caption\",\n",
    "    \"human_sentiment\": \"emotion\"\n",
    "})\n",
    "print(\"Columns present:\", dataframe.columns.tolist())\n"
   ],
   "id": "83ad954ce55316e0",
   "outputs": [
    {
     "name": "stdout",
     "output_type": "stream",
     "text": [
      "Columns present: ['img_name', 'caption', 'emotion', 'sentiment']\n"
     ]
    }
   ],
   "execution_count": 80
  },
  {
   "metadata": {
    "ExecuteTime": {
     "end_time": "2025-05-28T09:30:07.866634Z",
     "start_time": "2025-05-28T09:30:07.514212Z"
    }
   },
   "cell_type": "code",
   "source": [
    "# Build full image paths and apply basic filters\n",
    "\n",
    "# prepend the DATA_IMG path to each filename\n",
    "dataframe[\"img_name\"] = dataframe[\"img_name\"].apply(lambda n: pathlib.Path(DATA_IMG) / n)\n",
    "print(\"Initial total:\", len(dataframe))\n",
    "\n",
    "# filter out empty captions\n",
    "dataframe = dataframe[dataframe[\"caption\"].str.strip().ne(\"\")]\n",
    "print(\"After caption:\", len(dataframe))\n",
    "\n",
    "# filter out records whose image file doesn’t exist\n",
    "dataframe = dataframe[dataframe[\"img_name\"].apply(lambda p: p.exists())].reset_index(drop=True)\n",
    "print(\"After image check:\", len(dataframe))"
   ],
   "id": "6197a3bbb09ef1d3",
   "outputs": [
    {
     "name": "stdout",
     "output_type": "stream",
     "text": [
      "Initial total: 3840\n",
      "After caption: 3840\n",
      "After image check: 3840\n"
     ]
    }
   ],
   "execution_count": 81
  },
  {
   "metadata": {
    "ExecuteTime": {
     "end_time": "2025-05-28T09:30:08.650916Z",
     "start_time": "2025-05-28T09:30:08.515795Z"
    }
   },
   "cell_type": "code",
   "source": [
    "# Plot emotion distribution\n",
    "dataframe[\"emotion\"].value_counts().sort_index().plot(kind=\"bar\", figsize=(6,3))\n",
    "plt.title(\"Distribuzione Emozioni (tutti i record)\")\n",
    "plt.xlabel(\"Emotion\")\n",
    "plt.ylabel(\"Count\")\n",
    "plt.tight_layout()\n",
    "plt.show()"
   ],
   "id": "bc63159477d6a2a1",
   "outputs": [
    {
     "data": {
      "text/plain": [
       "<Figure size 600x300 with 1 Axes>"
      ],
      "image/png": "[encoded data removed]"
     },
     "metadata": {},
     "output_type": "display_data"
    }
   ],
   "execution_count": 82
  },
  {
   "metadata": {
    "ExecuteTime": {
     "end_time": "2025-05-28T09:30:09.284629Z",
     "start_time": "2025-05-28T09:30:09.211759Z"
    }
   },
   "cell_type": "code",
   "source": [
    "# Stratified 80/10/10 split\n",
    "train_df, temp_df = train_test_split(dataframe, test_size=0.20,\n",
    "                                     stratify=dataframe[\"emotion\"], random_state=42)\n",
    "val_df, test_df = train_test_split(temp_df, test_size=0.50,\n",
    "                                   stratify=temp_df[\"emotion\"], random_state=42)\n",
    "\n",
    "# Save each split as JSON\n",
    "for name, split_df in [(\"train\", train_df),\n",
    "                       (\"val\",   val_df),\n",
    "                       (\"test\",  test_df)]:\n",
    "    out_df = split_df.copy()\n",
    "    # converte i Path in stringhe\n",
    "    out_df[\"img_name\"] = out_df[\"img_name\"].astype(str)\n",
    "\n",
    "    records = out_df[[\"img_name\",\"caption\",\"emotion\"]] \\\n",
    "        .to_dict(orient=\"records\")\n",
    "\n",
    "    out_path = SPLIT_DIR / f\"{name}.json\"\n",
    "    with open(out_path, \"w\", encoding=\"utf-8\") as f:\n",
    "        json.dump(records, f, ensure_ascii=False, indent=2)\n",
    "    print(f\"{name.upper():5s}: {len(records):4d} esempi salvati in {out_path}\")"
   ],
   "id": "7505aa3d708b5174",
   "outputs": [
    {
     "name": "stdout",
     "output_type": "stream",
     "text": [
      "TRAIN: 3072 esempi salvati in data\\splits\\train.json\n",
      "VAL  :  384 esempi salvati in data\\splits\\val.json\n",
      "TEST :  384 esempi salvati in data\\splits\\test.json\n"
     ]
    }
   ],
   "execution_count": 83
  },
  {
   "metadata": {
    "ExecuteTime": {
     "end_time": "2025-05-28T09:31:46.623279Z",
     "start_time": "2025-05-28T09:31:46.595675Z"
    }
   },
   "cell_type": "code",
   "source": [
    "# Verify splits by counting emotions\n",
    "def count_emotions(json_file):\n",
    "    with open(json_file, encoding=\"utf-8\") as f:\n",
    "        data = json.load(f)\n",
    "    return collections.Counter(r[\"emotion\"] for r in data)\n",
    "\n",
    "for split in [\"train\",\"val\",\"test\"]:\n",
    "    cnt = count_emotions(pathlib.Path(SPLIT_DIR) / f\"{split}.json\")\n",
    "    print(f\"{split.capitalize():<5} ⇒\", dict(cnt))\n",
    "\n",
    "print(\"\\nImages directory:\", len(os.listdir(DATA_IMG)), \"file JPG\")\n"
   ],
   "id": "b835d8e4d6c569cc",
   "outputs": [
    {
     "name": "stdout",
     "output_type": "stream",
     "text": [
      "Train ⇒ {'Negative': 1224, 'Positive': 1630, 'Neutral': 218}\n",
      "Val   ⇒ {'Positive': 204, 'Negative': 153, 'Neutral': 27}\n",
      "Test  ⇒ {'Negative': 153, 'Positive': 203, 'Neutral': 28}\n",
      "\n",
      "Images directory: 3840 file JPG\n"
     ]
    }
   ],
   "execution_count": 86
  }
 ],
 "metadata": {
  "kernelspec": {
   "display_name": "Python 3",
   "language": "python",
   "name": "python3"
  },
  "language_info": {
   "codemirror_mode": {
    "name": "ipython",
    "version": 2
   },
   "file_extension": ".py",
   "mimetype": "text/x-python",
   "name": "python",
   "nbconvert_exporter": "python",
   "pygments_lexer": "ipython2",
   "version": "2.7.6"
  }
 },
 "nbformat": 4,
 "nbformat_minor": 5
}
