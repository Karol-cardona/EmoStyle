{
 "cells": [
  {
   "metadata": {
    "collapsed": true,
    "ExecuteTime": {
     "end_time": "2025-06-14T14:15:30.798823Z",
     "start_time": "2025-06-14T14:15:03.366948Z"
    }
   },
   "cell_type": "code",
   "source": [
    "# 1.1 – Assicurati di aver installato requirements.txt e di avere training.py nel working dir\n",
    "import os\n",
    "from pathlib import Path\n",
    "import json\n",
    "\n",
    "# riduci la dimensione massima dei blocchi allocati per evitare frammentazione\n",
    "os.environ[\"PYTORCH_CUDA_ALLOC_CONF\"] = \"max_split_size_mb:128\"\n",
    "import torch\n",
    "import matplotlib.pyplot as plt\n",
    "\n",
    "import sys\n",
    "\n",
    "sys.path.append(str(Path().resolve()))\n",
    "\n",
    "from training import run_lora_train\n",
    "\n",
    "import gradio as gr\n",
    "chatbot = gr.Chatbot(type=\"messages\")\n",
    "\n",
    "import matplotlib.image as mpimg\n",
    "\n"
   ],
   "id": "initial_id",
   "outputs": [],
   "execution_count": 1
  },
  {
   "metadata": {
    "ExecuteTime": {
     "end_time": "2025-06-14T14:15:30.844978Z",
     "start_time": "2025-06-14T14:15:30.824651Z"
    }
   },
   "cell_type": "code",
   "source": [
    "import sys\n",
    "print(\"sys.executable =\", sys.executable)\n"
   ],
   "id": "8622a035f6a9d558",
   "outputs": [
    {
     "name": "stdout",
     "output_type": "stream",
     "text": [
      "sys.executable = C:\\Users\\jinet\\anaconda3\\envs\\whisperGPUNuovo\\python.exe\n"
     ]
    }
   ],
   "execution_count": 2
  },
  {
   "metadata": {
    "ExecuteTime": {
     "end_time": "2025-06-14T14:15:31.673433Z",
     "start_time": "2025-06-14T14:15:31.661871Z"
    }
   },
   "cell_type": "code",
   "source": [
    "try:\n",
    "    import numpy as _np\n",
    "    print(\"NumPy version:\", _np.__version__)\n",
    "except ImportError:\n",
    "    raise RuntimeError(\"NumPy non è installato nel tuo Python. Installa con `pip install numpy`.\")\n"
   ],
   "id": "c5d97d5038bf1b10",
   "outputs": [
    {
     "name": "stdout",
     "output_type": "stream",
     "text": [
      "NumPy version: 1.26.4\n"
     ]
    }
   ],
   "execution_count": 3
  },
  {
   "metadata": {
    "ExecuteTime": {
     "end_time": "2025-06-14T14:15:31.704105Z",
     "start_time": "2025-06-14T14:15:31.692348Z"
    }
   },
   "cell_type": "code",
   "source": [
    "import pandas as pd\n",
    "print(\"pandas __path__:\", pd.__path__)\n"
   ],
   "id": "594d38919764a514",
   "outputs": [
    {
     "name": "stdout",
     "output_type": "stream",
     "text": [
      "pandas __path__: ['C:\\\\Users\\\\jinet\\\\anaconda3\\\\envs\\\\whisperGPUNuovo\\\\lib\\\\site-packages\\\\pandas']\n"
     ]
    }
   ],
   "execution_count": 4
  },
  {
   "metadata": {
    "ExecuteTime": {
     "end_time": "2025-06-14T14:15:31.767795Z",
     "start_time": "2025-06-14T14:15:31.753834Z"
    }
   },
   "cell_type": "code",
   "source": [
    "print(\"CUDA available:\", torch.cuda.is_available())\n",
    "if torch.cuda.is_available():\n",
    "    print(\"Device name:\", torch.cuda.get_device_name(0))\n",
    "    print(\"Current device index:\", torch.cuda.current_device())\n",
    "    print(\"Allocated (MB):\", torch.cuda.memory_allocated(0) / 1024**2)\n",
    "    print(\"Cached    (MB):\", torch.cuda.memory_reserved(0)  / 1024**2)"
   ],
   "id": "488ad5099c5e967d",
   "outputs": [
    {
     "name": "stdout",
     "output_type": "stream",
     "text": [
      "CUDA available: True\n",
      "Device name: NVIDIA GeForce RTX 3070 Laptop GPU\n",
      "Current device index: 0\n",
      "Allocated (MB): 1274.49072265625\n",
      "Cached    (MB): 1402.0\n"
     ]
    }
   ],
   "execution_count": 5
  },
  {
   "metadata": {
    "ExecuteTime": {
     "end_time": "2025-06-14T14:15:31.875394Z",
     "start_time": "2025-06-14T14:15:31.824263Z"
    }
   },
   "cell_type": "code",
   "source": [
    "# 2. Quick‐Experiment: LoRA su sottoinsieme\n",
    "\n",
    "# Configurazione esperimento rapido\n",
    "BASE_TRAIN = \"data/splits/train.json\"\n",
    "SUBSET_FILE = \"experiments/train_subset_500.json\"\n",
    "with open(BASE_TRAIN, \"r\", encoding=\"utf-8\") as f:\n",
    "    records = json.load(f)\n",
    "\n",
    "# creiamo subset di 500 esempi\n",
    "subset = records[:500]\n",
    "Path(\"data/splits\").mkdir(exist_ok=True, parents=True)\n",
    "with open(SUBSET_FILE, \"w\", encoding=\"utf-8\") as f:\n",
    "    json.dump(subset, f, ensure_ascii=False, indent=2)\n",
    "\n",
    "print(f\"Subset con {len(subset)} esempi salvato in {SUBSET_FILE}\")\n"
   ],
   "id": "4b8e87f4e55d0edf",
   "outputs": [
    {
     "name": "stdout",
     "output_type": "stream",
     "text": [
      "Subset con 500 esempi salvato in experiments/train_subset_500.json\n"
     ]
    }
   ],
   "execution_count": 6
  },
  {
   "metadata": {
    "ExecuteTime": {
     "end_time": "2025-06-14T14:41:06.134364Z",
     "start_time": "2025-06-14T14:15:31.986257Z"
    }
   },
   "cell_type": "code",
   "source": [
    "for temp in [0.5, 0.8]:\n",
    "    for lr in [5e-5, 1e-4]:\n",
    "        tag = f\"t{temp}_lr{lr}\"\n",
    "        out = Path(f\"experiments/sweep_{tag}\"); out.mkdir(exist_ok=True, parents=True)\n",
    "        run_lora_train(\n",
    "            train_file   = SUBSET_FILE,\n",
    "            output_dir   = str(out),\n",
    "            model_name   = \"meta-llama/Llama-3.2-3B-Instruct\",\n",
    "            seed         = 123,\n",
    "            use_4bit     = False,\n",
    "            batch_size   = 1,\n",
    "            learning_rate= lr,\n",
    "            num_train_epochs=1,\n",
    "        )\n",
    "\n"
   ],
   "id": "ee0d5bcf610379a5",
   "outputs": [
    {
     "name": "stdout",
     "output_type": "stream",
     "text": [
      "[LoRA] Esempi da experiments/train_subset_500.json: 500\n"
     ]
    },
    {
     "name": "stderr",
     "output_type": "stream",
     "text": [
      "C:\\Users\\jinet\\anaconda3\\envs\\whisperGPUNuovo\\lib\\site-packages\\transformers\\models\\auto\\tokenization_auto.py:902: FutureWarning: The `use_auth_token` argument is deprecated and will be removed in v5 of Transformers. Please use `token` instead.\n",
      "  warnings.warn(\n"
     ]
    },
    {
     "name": "stdout",
     "output_type": "stream",
     "text": [
      "[LoRA] Train/Val sizes = 475/25\n",
      "[LoRA] Dataset tokenization debug salvato in lora_dataset_debug.csv\n"
     ]
    },
    {
     "data": {
      "text/plain": [
       "Map:   0%|          | 0/475 [00:00<?, ? examples/s]"
      ],
      "application/vnd.jupyter.widget-view+json": {
       "version_major": 2,
       "version_minor": 0,
       "model_id": "0a17f79f6e8641cdb532f3d9506870b7"
      }
     },
     "metadata": {},
     "output_type": "display_data"
    },
    {
     "data": {
      "text/plain": [
       "Map:   0%|          | 0/25 [00:00<?, ? examples/s]"
      ],
      "application/vnd.jupyter.widget-view+json": {
       "version_major": 2,
       "version_minor": 0,
       "model_id": "b747102888c94ce49749ac865329648d"
      }
     },
     "metadata": {},
     "output_type": "display_data"
    },
    {
     "name": "stderr",
     "output_type": "stream",
     "text": [
      "loading configuration file config.json from cache at C:\\Users\\jinet\\.cache\\huggingface\\hub\\models--meta-llama--Llama-3.2-3B-Instruct\\snapshots\\0cb88a4f764b7a12671c53f0838cd831a0843b95\\config.json\n",
      "Model config LlamaConfig {\n",
      "  \"architectures\": [\n",
      "    \"LlamaForCausalLM\"\n",
      "  ],\n",
      "  \"attention_bias\": false,\n",
      "  \"attention_dropout\": 0.0,\n",
      "  \"bos_token_id\": 128000,\n",
      "  \"eos_token_id\": [\n",
      "    128001,\n",
      "    128008,\n",
      "    128009\n",
      "  ],\n",
      "  \"head_dim\": 128,\n",
      "  \"hidden_act\": \"silu\",\n",
      "  \"hidden_size\": 3072,\n",
      "  \"initializer_range\": 0.02,\n",
      "  \"intermediate_size\": 8192,\n",
      "  \"max_position_embeddings\": 131072,\n",
      "  \"mlp_bias\": false,\n",
      "  \"model_type\": \"llama\",\n",
      "  \"num_attention_heads\": 24,\n",
      "  \"num_hidden_layers\": 28,\n",
      "  \"num_key_value_heads\": 8,\n",
      "  \"pretraining_tp\": 1,\n",
      "  \"rms_norm_eps\": 1e-05,\n",
      "  \"rope_scaling\": {\n",
      "    \"factor\": 32.0,\n",
      "    \"high_freq_factor\": 4.0,\n",
      "    \"low_freq_factor\": 1.0,\n",
      "    \"original_max_position_embeddings\": 8192,\n",
      "    \"rope_type\": \"llama3\"\n",
      "  },\n",
      "  \"rope_theta\": 500000.0,\n",
      "  \"tie_word_embeddings\": true,\n",
      "  \"torch_dtype\": \"bfloat16\",\n",
      "  \"transformers_version\": \"4.52.4\",\n",
      "  \"use_cache\": true,\n",
      "  \"vocab_size\": 128256\n",
      "}\n",
      "\n"
     ]
    },
    {
     "name": "stdout",
     "output_type": "stream",
     "text": [
      "[LoRA] Device: cuda\n",
      "[LoRA] ⚙️  Preparazione caricamento modello…\n"
     ]
    },
    {
     "name": "stderr",
     "output_type": "stream",
     "text": [
      "Multi-backend validation successful.\n",
      "Overriding torch_dtype=None with `torch_dtype=torch.float16` due to requirements of `bitsandbytes` to enable model loading in 8-bit or 4-bit. Pass your own torch_dtype to specify the dtype of the remaining non-linear layers or pass torch_dtype=torch.float16 to remove this warning.\n",
      "loading weights file model.safetensors from cache at C:\\Users\\jinet\\.cache\\huggingface\\hub\\models--meta-llama--Llama-3.2-3B-Instruct\\snapshots\\0cb88a4f764b7a12671c53f0838cd831a0843b95\\model.safetensors.index.json\n",
      "Instantiating LlamaForCausalLM model under default dtype torch.float16.\n",
      "Generate config GenerationConfig {\n",
      "  \"bos_token_id\": 128000,\n",
      "  \"eos_token_id\": [\n",
      "    128001,\n",
      "    128008,\n",
      "    128009\n",
      "  ]\n",
      "}\n",
      "\n",
      "target_dtype {target_dtype} is replaced by `CustomDtype.INT4` for 4-bit BnB quantization\n",
      "Multi-backend validation successful.\n"
     ]
    },
    {
     "data": {
      "text/plain": [
       "Loading checkpoint shards:   0%|          | 0/2 [00:00<?, ?it/s]"
      ],
      "application/vnd.jupyter.widget-view+json": {
       "version_major": 2,
       "version_minor": 0,
       "model_id": "feea133151bd46ada38042773c161776"
      }
     },
     "metadata": {},
     "output_type": "display_data"
    },
    {
     "name": "stderr",
     "output_type": "stream",
     "text": [
      "All model checkpoint weights were used when initializing LlamaForCausalLM.\n",
      "\n",
      "All the weights of LlamaForCausalLM were initialized from the model checkpoint at meta-llama/Llama-3.2-3B-Instruct.\n",
      "If your task is similar to the task the model of the checkpoint was trained on, you can already use LlamaForCausalLM for predictions without further training.\n",
      "loading configuration file generation_config.json from cache at C:\\Users\\jinet\\.cache\\huggingface\\hub\\models--meta-llama--Llama-3.2-3B-Instruct\\snapshots\\0cb88a4f764b7a12671c53f0838cd831a0843b95\\generation_config.json\n",
      "Generate config GenerationConfig {\n",
      "  \"bos_token_id\": 128000,\n",
      "  \"do_sample\": true,\n",
      "  \"eos_token_id\": [\n",
      "    128001,\n",
      "    128008,\n",
      "    128009\n",
      "  ],\n",
      "  \"temperature\": 0.6,\n",
      "  \"top_p\": 0.9\n",
      "}\n",
      "\n",
      "PyTorch: setting up devices\n"
     ]
    },
    {
     "name": "stdout",
     "output_type": "stream",
     "text": [
      "[LoRA] ✅ from_pretrained in 16.7s\n",
      "[LoRA] ✅ device mapping completato in 0.0s\n",
      ">>> Parametri che richiedono grad (112):\n",
      "    base_model.model.model.layers.0.self_attn.q_proj.lora_A.default.weight\n",
      "    base_model.model.model.layers.0.self_attn.q_proj.lora_B.default.weight\n",
      "    base_model.model.model.layers.0.self_attn.v_proj.lora_A.default.weight\n",
      "    base_model.model.model.layers.0.self_attn.v_proj.lora_B.default.weight\n",
      "    base_model.model.model.layers.1.self_attn.q_proj.lora_A.default.weight\n",
      "    base_model.model.model.layers.1.self_attn.q_proj.lora_B.default.weight\n",
      "    base_model.model.model.layers.1.self_attn.v_proj.lora_A.default.weight\n",
      "    base_model.model.model.layers.1.self_attn.v_proj.lora_B.default.weight\n",
      "    base_model.model.model.layers.2.self_attn.q_proj.lora_A.default.weight\n",
      "    base_model.model.model.layers.2.self_attn.q_proj.lora_B.default.weight\n",
      "    base_model.model.model.layers.2.self_attn.v_proj.lora_A.default.weight\n",
      "    base_model.model.model.layers.2.self_attn.v_proj.lora_B.default.weight\n",
      "    base_model.model.model.layers.3.self_attn.q_proj.lora_A.default.weight\n",
      "    base_model.model.model.layers.3.self_attn.q_proj.lora_B.default.weight\n",
      "    base_model.model.model.layers.3.self_attn.v_proj.lora_A.default.weight\n",
      "    base_model.model.model.layers.3.self_attn.v_proj.lora_B.default.weight\n",
      "    base_model.model.model.layers.4.self_attn.q_proj.lora_A.default.weight\n",
      "    base_model.model.model.layers.4.self_attn.q_proj.lora_B.default.weight\n",
      "    base_model.model.model.layers.4.self_attn.v_proj.lora_A.default.weight\n",
      "    base_model.model.model.layers.4.self_attn.v_proj.lora_B.default.weight\n",
      "    base_model.model.model.layers.5.self_attn.q_proj.lora_A.default.weight\n",
      "    base_model.model.model.layers.5.self_attn.q_proj.lora_B.default.weight\n",
      "    base_model.model.model.layers.5.self_attn.v_proj.lora_A.default.weight\n",
      "    base_model.model.model.layers.5.self_attn.v_proj.lora_B.default.weight\n",
      "    base_model.model.model.layers.6.self_attn.q_proj.lora_A.default.weight\n",
      "    base_model.model.model.layers.6.self_attn.q_proj.lora_B.default.weight\n",
      "    base_model.model.model.layers.6.self_attn.v_proj.lora_A.default.weight\n",
      "    base_model.model.model.layers.6.self_attn.v_proj.lora_B.default.weight\n",
      "    base_model.model.model.layers.7.self_attn.q_proj.lora_A.default.weight\n",
      "    base_model.model.model.layers.7.self_attn.q_proj.lora_B.default.weight\n",
      "    base_model.model.model.layers.7.self_attn.v_proj.lora_A.default.weight\n",
      "    base_model.model.model.layers.7.self_attn.v_proj.lora_B.default.weight\n",
      "    base_model.model.model.layers.8.self_attn.q_proj.lora_A.default.weight\n",
      "    base_model.model.model.layers.8.self_attn.q_proj.lora_B.default.weight\n",
      "    base_model.model.model.layers.8.self_attn.v_proj.lora_A.default.weight\n",
      "    base_model.model.model.layers.8.self_attn.v_proj.lora_B.default.weight\n",
      "    base_model.model.model.layers.9.self_attn.q_proj.lora_A.default.weight\n",
      "    base_model.model.model.layers.9.self_attn.q_proj.lora_B.default.weight\n",
      "    base_model.model.model.layers.9.self_attn.v_proj.lora_A.default.weight\n",
      "    base_model.model.model.layers.9.self_attn.v_proj.lora_B.default.weight\n",
      "    base_model.model.model.layers.10.self_attn.q_proj.lora_A.default.weight\n",
      "    base_model.model.model.layers.10.self_attn.q_proj.lora_B.default.weight\n",
      "    base_model.model.model.layers.10.self_attn.v_proj.lora_A.default.weight\n",
      "    base_model.model.model.layers.10.self_attn.v_proj.lora_B.default.weight\n",
      "    base_model.model.model.layers.11.self_attn.q_proj.lora_A.default.weight\n",
      "    base_model.model.model.layers.11.self_attn.q_proj.lora_B.default.weight\n",
      "    base_model.model.model.layers.11.self_attn.v_proj.lora_A.default.weight\n",
      "    base_model.model.model.layers.11.self_attn.v_proj.lora_B.default.weight\n",
      "    base_model.model.model.layers.12.self_attn.q_proj.lora_A.default.weight\n",
      "    base_model.model.model.layers.12.self_attn.q_proj.lora_B.default.weight\n",
      "    base_model.model.model.layers.12.self_attn.v_proj.lora_A.default.weight\n",
      "    base_model.model.model.layers.12.self_attn.v_proj.lora_B.default.weight\n",
      "    base_model.model.model.layers.13.self_attn.q_proj.lora_A.default.weight\n",
      "    base_model.model.model.layers.13.self_attn.q_proj.lora_B.default.weight\n",
      "    base_model.model.model.layers.13.self_attn.v_proj.lora_A.default.weight\n",
      "    base_model.model.model.layers.13.self_attn.v_proj.lora_B.default.weight\n",
      "    base_model.model.model.layers.14.self_attn.q_proj.lora_A.default.weight\n",
      "    base_model.model.model.layers.14.self_attn.q_proj.lora_B.default.weight\n",
      "    base_model.model.model.layers.14.self_attn.v_proj.lora_A.default.weight\n",
      "    base_model.model.model.layers.14.self_attn.v_proj.lora_B.default.weight\n",
      "    base_model.model.model.layers.15.self_attn.q_proj.lora_A.default.weight\n",
      "    base_model.model.model.layers.15.self_attn.q_proj.lora_B.default.weight\n",
      "    base_model.model.model.layers.15.self_attn.v_proj.lora_A.default.weight\n",
      "    base_model.model.model.layers.15.self_attn.v_proj.lora_B.default.weight\n",
      "    base_model.model.model.layers.16.self_attn.q_proj.lora_A.default.weight\n",
      "    base_model.model.model.layers.16.self_attn.q_proj.lora_B.default.weight\n",
      "    base_model.model.model.layers.16.self_attn.v_proj.lora_A.default.weight\n",
      "    base_model.model.model.layers.16.self_attn.v_proj.lora_B.default.weight\n",
      "    base_model.model.model.layers.17.self_attn.q_proj.lora_A.default.weight\n",
      "    base_model.model.model.layers.17.self_attn.q_proj.lora_B.default.weight\n",
      "    base_model.model.model.layers.17.self_attn.v_proj.lora_A.default.weight\n",
      "    base_model.model.model.layers.17.self_attn.v_proj.lora_B.default.weight\n",
      "    base_model.model.model.layers.18.self_attn.q_proj.lora_A.default.weight\n",
      "    base_model.model.model.layers.18.self_attn.q_proj.lora_B.default.weight\n",
      "    base_model.model.model.layers.18.self_attn.v_proj.lora_A.default.weight\n",
      "    base_model.model.model.layers.18.self_attn.v_proj.lora_B.default.weight\n",
      "    base_model.model.model.layers.19.self_attn.q_proj.lora_A.default.weight\n",
      "    base_model.model.model.layers.19.self_attn.q_proj.lora_B.default.weight\n",
      "    base_model.model.model.layers.19.self_attn.v_proj.lora_A.default.weight\n",
      "    base_model.model.model.layers.19.self_attn.v_proj.lora_B.default.weight\n",
      "    base_model.model.model.layers.20.self_attn.q_proj.lora_A.default.weight\n",
      "    base_model.model.model.layers.20.self_attn.q_proj.lora_B.default.weight\n",
      "    base_model.model.model.layers.20.self_attn.v_proj.lora_A.default.weight\n",
      "    base_model.model.model.layers.20.self_attn.v_proj.lora_B.default.weight\n",
      "    base_model.model.model.layers.21.self_attn.q_proj.lora_A.default.weight\n",
      "    base_model.model.model.layers.21.self_attn.q_proj.lora_B.default.weight\n",
      "    base_model.model.model.layers.21.self_attn.v_proj.lora_A.default.weight\n",
      "    base_model.model.model.layers.21.self_attn.v_proj.lora_B.default.weight\n",
      "    base_model.model.model.layers.22.self_attn.q_proj.lora_A.default.weight\n",
      "    base_model.model.model.layers.22.self_attn.q_proj.lora_B.default.weight\n",
      "    base_model.model.model.layers.22.self_attn.v_proj.lora_A.default.weight\n",
      "    base_model.model.model.layers.22.self_attn.v_proj.lora_B.default.weight\n",
      "    base_model.model.model.layers.23.self_attn.q_proj.lora_A.default.weight\n",
      "    base_model.model.model.layers.23.self_attn.q_proj.lora_B.default.weight\n",
      "    base_model.model.model.layers.23.self_attn.v_proj.lora_A.default.weight\n",
      "    base_model.model.model.layers.23.self_attn.v_proj.lora_B.default.weight\n",
      "    base_model.model.model.layers.24.self_attn.q_proj.lora_A.default.weight\n",
      "    base_model.model.model.layers.24.self_attn.q_proj.lora_B.default.weight\n",
      "    base_model.model.model.layers.24.self_attn.v_proj.lora_A.default.weight\n",
      "    base_model.model.model.layers.24.self_attn.v_proj.lora_B.default.weight\n",
      "    base_model.model.model.layers.25.self_attn.q_proj.lora_A.default.weight\n",
      "    base_model.model.model.layers.25.self_attn.q_proj.lora_B.default.weight\n",
      "    base_model.model.model.layers.25.self_attn.v_proj.lora_A.default.weight\n",
      "    base_model.model.model.layers.25.self_attn.v_proj.lora_B.default.weight\n",
      "    base_model.model.model.layers.26.self_attn.q_proj.lora_A.default.weight\n",
      "    base_model.model.model.layers.26.self_attn.q_proj.lora_B.default.weight\n",
      "    base_model.model.model.layers.26.self_attn.v_proj.lora_A.default.weight\n",
      "    base_model.model.model.layers.26.self_attn.v_proj.lora_B.default.weight\n",
      "    base_model.model.model.layers.27.self_attn.q_proj.lora_A.default.weight\n",
      "    base_model.model.model.layers.27.self_attn.q_proj.lora_B.default.weight\n",
      "    base_model.model.model.layers.27.self_attn.v_proj.lora_A.default.weight\n",
      "    base_model.model.model.layers.27.self_attn.v_proj.lora_B.default.weight\n"
     ]
    },
    {
     "name": "stderr",
     "output_type": "stream",
     "text": [
      "Using auto half precision backend\n",
      "No label_names provided for model class `PeftModelForCausalLM`. Since `PeftModel` hides base models input arguments, if label_names is not given, label_names can't be set automatically within `Trainer`. Note that empty label_names list will be used instead.\n",
      "Currently training with a batch size of: 1\n",
      "***** Running training *****\n",
      "  Num examples = 475\n",
      "  Num Epochs = 1\n",
      "  Instantaneous batch size per device = 1\n",
      "  Total train batch size (w. parallel, distributed & accumulation) = 4\n",
      "  Gradient Accumulation steps = 4\n",
      "  Total optimization steps = 119\n",
      "  Number of trainable parameters = 2,293,760\n"
     ]
    },
    {
     "data": {
      "text/plain": [
       "<IPython.core.display.HTML object>"
      ],
      "text/html": [
       "\n",
       "    <div>\n",
       "      \n",
       "      <progress value='119' max='119' style='width:300px; height:20px; vertical-align: middle;'></progress>\n",
       "      [119/119 05:46, Epoch 1/1]\n",
       "    </div>\n",
       "    <table border=\"1\" class=\"dataframe\">\n",
       "  <thead>\n",
       " <tr style=\"text-align: left;\">\n",
       "      <th>Step</th>\n",
       "      <th>Training Loss</th>\n",
       "      <th>Validation Loss</th>\n",
       "      <th>Accuracy</th>\n",
       "    </tr>\n",
       "  </thead>\n",
       "  <tbody>\n",
       "    <tr>\n",
       "      <td>50</td>\n",
       "      <td>5.732700</td>\n",
       "      <td>2.022326</td>\n",
       "      <td>0.766250</td>\n",
       "    </tr>\n",
       "    <tr>\n",
       "      <td>100</td>\n",
       "      <td>0.975900</td>\n",
       "      <td>0.671696</td>\n",
       "      <td>0.917500</td>\n",
       "    </tr>\n",
       "  </tbody>\n",
       "</table><p>"
      ]
     },
     "metadata": {},
     "output_type": "display_data"
    },
    {
     "name": "stderr",
     "output_type": "stream",
     "text": [
      "\n",
      "***** Running Evaluation *****\n",
      "  Num examples = 25\n",
      "  Batch size = 1\n",
      "\n",
      "***** Running Evaluation *****\n",
      "  Num examples = 25\n",
      "  Batch size = 1\n",
      "Saving model checkpoint to experiments\\sweep_t0.5_lr5e-05\\checkpoint-119\n",
      "loading configuration file config.json from cache at C:\\Users\\jinet\\.cache\\huggingface\\hub\\models--meta-llama--Llama-3.2-3B-Instruct\\snapshots\\0cb88a4f764b7a12671c53f0838cd831a0843b95\\config.json\n",
      "Model config LlamaConfig {\n",
      "  \"architectures\": [\n",
      "    \"LlamaForCausalLM\"\n",
      "  ],\n",
      "  \"attention_bias\": false,\n",
      "  \"attention_dropout\": 0.0,\n",
      "  \"bos_token_id\": 128000,\n",
      "  \"eos_token_id\": [\n",
      "    128001,\n",
      "    128008,\n",
      "    128009\n",
      "  ],\n",
      "  \"head_dim\": 128,\n",
      "  \"hidden_act\": \"silu\",\n",
      "  \"hidden_size\": 3072,\n",
      "  \"initializer_range\": 0.02,\n",
      "  \"intermediate_size\": 8192,\n",
      "  \"max_position_embeddings\": 131072,\n",
      "  \"mlp_bias\": false,\n",
      "  \"model_type\": \"llama\",\n",
      "  \"num_attention_heads\": 24,\n",
      "  \"num_hidden_layers\": 28,\n",
      "  \"num_key_value_heads\": 8,\n",
      "  \"pretraining_tp\": 1,\n",
      "  \"rms_norm_eps\": 1e-05,\n",
      "  \"rope_scaling\": {\n",
      "    \"factor\": 32.0,\n",
      "    \"high_freq_factor\": 4.0,\n",
      "    \"low_freq_factor\": 1.0,\n",
      "    \"original_max_position_embeddings\": 8192,\n",
      "    \"rope_type\": \"llama3\"\n",
      "  },\n",
      "  \"rope_theta\": 500000.0,\n",
      "  \"tie_word_embeddings\": true,\n",
      "  \"torch_dtype\": \"bfloat16\",\n",
      "  \"transformers_version\": \"4.52.4\",\n",
      "  \"use_cache\": true,\n",
      "  \"vocab_size\": 128256\n",
      "}\n",
      "\n",
      "\n",
      "\n",
      "Training completed. Do not forget to share your model on huggingface.co/models =)\n",
      "\n",
      "\n"
     ]
    },
    {
     "data": {
      "text/plain": [
       "<Figure size 1200x400 with 2 Axes>"
      ],
      "image/png": "[encoded data removed]"
     },
     "metadata": {},
     "output_type": "display_data"
    },
    {
     "name": "stdout",
     "output_type": "stream",
     "text": [
      "[LoRA] Subplots salvati in experiments\\sweep_t0.5_lr5e-05\\lora_subplots.png\n",
      "[LoRA] Perplexity finale (train): 2.65\n"
     ]
    },
    {
     "name": "stderr",
     "output_type": "stream",
     "text": [
      "loading configuration file config.json from cache at C:\\Users\\jinet\\.cache\\huggingface\\hub\\models--meta-llama--Llama-3.2-3B-Instruct\\snapshots\\0cb88a4f764b7a12671c53f0838cd831a0843b95\\config.json\n",
      "Model config LlamaConfig {\n",
      "  \"architectures\": [\n",
      "    \"LlamaForCausalLM\"\n",
      "  ],\n",
      "  \"attention_bias\": false,\n",
      "  \"attention_dropout\": 0.0,\n",
      "  \"bos_token_id\": 128000,\n",
      "  \"eos_token_id\": [\n",
      "    128001,\n",
      "    128008,\n",
      "    128009\n",
      "  ],\n",
      "  \"head_dim\": 128,\n",
      "  \"hidden_act\": \"silu\",\n",
      "  \"hidden_size\": 3072,\n",
      "  \"initializer_range\": 0.02,\n",
      "  \"intermediate_size\": 8192,\n",
      "  \"max_position_embeddings\": 131072,\n",
      "  \"mlp_bias\": false,\n",
      "  \"model_type\": \"llama\",\n",
      "  \"num_attention_heads\": 24,\n",
      "  \"num_hidden_layers\": 28,\n",
      "  \"num_key_value_heads\": 8,\n",
      "  \"pretraining_tp\": 1,\n",
      "  \"rms_norm_eps\": 1e-05,\n",
      "  \"rope_scaling\": {\n",
      "    \"factor\": 32.0,\n",
      "    \"high_freq_factor\": 4.0,\n",
      "    \"low_freq_factor\": 1.0,\n",
      "    \"original_max_position_embeddings\": 8192,\n",
      "    \"rope_type\": \"llama3\"\n",
      "  },\n",
      "  \"rope_theta\": 500000.0,\n",
      "  \"tie_word_embeddings\": true,\n",
      "  \"torch_dtype\": \"bfloat16\",\n",
      "  \"transformers_version\": \"4.52.4\",\n",
      "  \"use_cache\": true,\n",
      "  \"vocab_size\": 128256\n",
      "}\n",
      "\n",
      "chat template saved in experiments\\sweep_t0.5_lr5e-05\\chat_template.jinja\n",
      "tokenizer config file saved in experiments\\sweep_t0.5_lr5e-05\\tokenizer_config.json\n",
      "Special tokens file saved in experiments\\sweep_t0.5_lr5e-05\\special_tokens_map.json\n"
     ]
    },
    {
     "name": "stdout",
     "output_type": "stream",
     "text": [
      "[LoRA] Adapter LoRA e tokenizer salvati in experiments\\sweep_t0.5_lr5e-05\n",
      "[LoRA] Esempi da experiments/train_subset_500.json: 500\n"
     ]
    },
    {
     "name": "stderr",
     "output_type": "stream",
     "text": [
      "C:\\Users\\jinet\\anaconda3\\envs\\whisperGPUNuovo\\lib\\site-packages\\transformers\\models\\auto\\tokenization_auto.py:902: FutureWarning: The `use_auth_token` argument is deprecated and will be removed in v5 of Transformers. Please use `token` instead.\n",
      "  warnings.warn(\n",
      "loading file tokenizer.json from cache at C:\\Users\\jinet\\.cache\\huggingface\\hub\\models--meta-llama--Llama-3.2-3B-Instruct\\snapshots\\0cb88a4f764b7a12671c53f0838cd831a0843b95\\tokenizer.json\n",
      "loading file tokenizer.model from cache at None\n",
      "loading file added_tokens.json from cache at None\n",
      "loading file special_tokens_map.json from cache at C:\\Users\\jinet\\.cache\\huggingface\\hub\\models--meta-llama--Llama-3.2-3B-Instruct\\snapshots\\0cb88a4f764b7a12671c53f0838cd831a0843b95\\special_tokens_map.json\n",
      "loading file tokenizer_config.json from cache at C:\\Users\\jinet\\.cache\\huggingface\\hub\\models--meta-llama--Llama-3.2-3B-Instruct\\snapshots\\0cb88a4f764b7a12671c53f0838cd831a0843b95\\tokenizer_config.json\n",
      "loading file chat_template.jinja from cache at None\n",
      "Special tokens have been added in the vocabulary, make sure the associated word embeddings are fine-tuned or trained.\n"
     ]
    },
    {
     "name": "stdout",
     "output_type": "stream",
     "text": [
      "[LoRA] Train/Val sizes = 475/25\n",
      "[LoRA] Dataset tokenization debug salvato in lora_dataset_debug.csv\n"
     ]
    },
    {
     "data": {
      "text/plain": [
       "Map:   0%|          | 0/475 [00:00<?, ? examples/s]"
      ],
      "application/vnd.jupyter.widget-view+json": {
       "version_major": 2,
       "version_minor": 0,
       "model_id": "706b8ca3078c4ee39c3fba0adb6f01d2"
      }
     },
     "metadata": {},
     "output_type": "display_data"
    },
    {
     "data": {
      "text/plain": [
       "Map:   0%|          | 0/25 [00:00<?, ? examples/s]"
      ],
      "application/vnd.jupyter.widget-view+json": {
       "version_major": 2,
       "version_minor": 0,
       "model_id": "8aa60470598b4eada99820ddfe7fae7f"
      }
     },
     "metadata": {},
     "output_type": "display_data"
    },
    {
     "name": "stderr",
     "output_type": "stream",
     "text": [
      "loading configuration file config.json from cache at C:\\Users\\jinet\\.cache\\huggingface\\hub\\models--meta-llama--Llama-3.2-3B-Instruct\\snapshots\\0cb88a4f764b7a12671c53f0838cd831a0843b95\\config.json\n",
      "Model config LlamaConfig {\n",
      "  \"architectures\": [\n",
      "    \"LlamaForCausalLM\"\n",
      "  ],\n",
      "  \"attention_bias\": false,\n",
      "  \"attention_dropout\": 0.0,\n",
      "  \"bos_token_id\": 128000,\n",
      "  \"eos_token_id\": [\n",
      "    128001,\n",
      "    128008,\n",
      "    128009\n",
      "  ],\n",
      "  \"head_dim\": 128,\n",
      "  \"hidden_act\": \"silu\",\n",
      "  \"hidden_size\": 3072,\n",
      "  \"initializer_range\": 0.02,\n",
      "  \"intermediate_size\": 8192,\n",
      "  \"max_position_embeddings\": 131072,\n",
      "  \"mlp_bias\": false,\n",
      "  \"model_type\": \"llama\",\n",
      "  \"num_attention_heads\": 24,\n",
      "  \"num_hidden_layers\": 28,\n",
      "  \"num_key_value_heads\": 8,\n",
      "  \"pretraining_tp\": 1,\n",
      "  \"rms_norm_eps\": 1e-05,\n",
      "  \"rope_scaling\": {\n",
      "    \"factor\": 32.0,\n",
      "    \"high_freq_factor\": 4.0,\n",
      "    \"low_freq_factor\": 1.0,\n",
      "    \"original_max_position_embeddings\": 8192,\n",
      "    \"rope_type\": \"llama3\"\n",
      "  },\n",
      "  \"rope_theta\": 500000.0,\n",
      "  \"tie_word_embeddings\": true,\n",
      "  \"torch_dtype\": \"bfloat16\",\n",
      "  \"transformers_version\": \"4.52.4\",\n",
      "  \"use_cache\": true,\n",
      "  \"vocab_size\": 128256\n",
      "}\n",
      "\n",
      "Multi-backend validation successful.\n",
      "Overriding torch_dtype=None with `torch_dtype=torch.float16` due to requirements of `bitsandbytes` to enable model loading in 8-bit or 4-bit. Pass your own torch_dtype to specify the dtype of the remaining non-linear layers or pass torch_dtype=torch.float16 to remove this warning.\n",
      "loading weights file model.safetensors from cache at C:\\Users\\jinet\\.cache\\huggingface\\hub\\models--meta-llama--Llama-3.2-3B-Instruct\\snapshots\\0cb88a4f764b7a12671c53f0838cd831a0843b95\\model.safetensors.index.json\n",
      "Instantiating LlamaForCausalLM model under default dtype torch.float16.\n"
     ]
    },
    {
     "name": "stdout",
     "output_type": "stream",
     "text": [
      "[LoRA] Device: cuda\n",
      "[LoRA] ⚙️  Preparazione caricamento modello…\n"
     ]
    },
    {
     "name": "stderr",
     "output_type": "stream",
     "text": [
      "Generate config GenerationConfig {\n",
      "  \"bos_token_id\": 128000,\n",
      "  \"eos_token_id\": [\n",
      "    128001,\n",
      "    128008,\n",
      "    128009\n",
      "  ]\n",
      "}\n",
      "\n",
      "target_dtype {target_dtype} is replaced by `CustomDtype.INT4` for 4-bit BnB quantization\n",
      "Multi-backend validation successful.\n"
     ]
    },
    {
     "data": {
      "text/plain": [
       "Loading checkpoint shards:   0%|          | 0/2 [00:00<?, ?it/s]"
      ],
      "application/vnd.jupyter.widget-view+json": {
       "version_major": 2,
       "version_minor": 0,
       "model_id": "d65f19657f1a41b39e6d518a1e4f199c"
      }
     },
     "metadata": {},
     "output_type": "display_data"
    },
    {
     "name": "stderr",
     "output_type": "stream",
     "text": [
      "All model checkpoint weights were used when initializing LlamaForCausalLM.\n",
      "\n",
      "All the weights of LlamaForCausalLM were initialized from the model checkpoint at meta-llama/Llama-3.2-3B-Instruct.\n",
      "If your task is similar to the task the model of the checkpoint was trained on, you can already use LlamaForCausalLM for predictions without further training.\n",
      "loading configuration file generation_config.json from cache at C:\\Users\\jinet\\.cache\\huggingface\\hub\\models--meta-llama--Llama-3.2-3B-Instruct\\snapshots\\0cb88a4f764b7a12671c53f0838cd831a0843b95\\generation_config.json\n",
      "Generate config GenerationConfig {\n",
      "  \"bos_token_id\": 128000,\n",
      "  \"do_sample\": true,\n",
      "  \"eos_token_id\": [\n",
      "    128001,\n",
      "    128008,\n",
      "    128009\n",
      "  ],\n",
      "  \"temperature\": 0.6,\n",
      "  \"top_p\": 0.9\n",
      "}\n",
      "\n",
      "PyTorch: setting up devices\n"
     ]
    },
    {
     "name": "stdout",
     "output_type": "stream",
     "text": [
      "[LoRA] ✅ from_pretrained in 16.3s\n",
      "[LoRA] ✅ device mapping completato in 0.0s\n",
      ">>> Parametri che richiedono grad (112):\n",
      "    base_model.model.model.layers.0.self_attn.q_proj.lora_A.default.weight\n",
      "    base_model.model.model.layers.0.self_attn.q_proj.lora_B.default.weight\n",
      "    base_model.model.model.layers.0.self_attn.v_proj.lora_A.default.weight\n",
      "    base_model.model.model.layers.0.self_attn.v_proj.lora_B.default.weight\n",
      "    base_model.model.model.layers.1.self_attn.q_proj.lora_A.default.weight\n",
      "    base_model.model.model.layers.1.self_attn.q_proj.lora_B.default.weight\n",
      "    base_model.model.model.layers.1.self_attn.v_proj.lora_A.default.weight\n",
      "    base_model.model.model.layers.1.self_attn.v_proj.lora_B.default.weight\n",
      "    base_model.model.model.layers.2.self_attn.q_proj.lora_A.default.weight\n",
      "    base_model.model.model.layers.2.self_attn.q_proj.lora_B.default.weight\n",
      "    base_model.model.model.layers.2.self_attn.v_proj.lora_A.default.weight\n",
      "    base_model.model.model.layers.2.self_attn.v_proj.lora_B.default.weight\n",
      "    base_model.model.model.layers.3.self_attn.q_proj.lora_A.default.weight\n",
      "    base_model.model.model.layers.3.self_attn.q_proj.lora_B.default.weight\n",
      "    base_model.model.model.layers.3.self_attn.v_proj.lora_A.default.weight\n",
      "    base_model.model.model.layers.3.self_attn.v_proj.lora_B.default.weight\n",
      "    base_model.model.model.layers.4.self_attn.q_proj.lora_A.default.weight\n",
      "    base_model.model.model.layers.4.self_attn.q_proj.lora_B.default.weight\n",
      "    base_model.model.model.layers.4.self_attn.v_proj.lora_A.default.weight\n",
      "    base_model.model.model.layers.4.self_attn.v_proj.lora_B.default.weight\n",
      "    base_model.model.model.layers.5.self_attn.q_proj.lora_A.default.weight\n",
      "    base_model.model.model.layers.5.self_attn.q_proj.lora_B.default.weight\n",
      "    base_model.model.model.layers.5.self_attn.v_proj.lora_A.default.weight\n",
      "    base_model.model.model.layers.5.self_attn.v_proj.lora_B.default.weight\n",
      "    base_model.model.model.layers.6.self_attn.q_proj.lora_A.default.weight\n",
      "    base_model.model.model.layers.6.self_attn.q_proj.lora_B.default.weight\n",
      "    base_model.model.model.layers.6.self_attn.v_proj.lora_A.default.weight\n",
      "    base_model.model.model.layers.6.self_attn.v_proj.lora_B.default.weight\n",
      "    base_model.model.model.layers.7.self_attn.q_proj.lora_A.default.weight\n",
      "    base_model.model.model.layers.7.self_attn.q_proj.lora_B.default.weight\n",
      "    base_model.model.model.layers.7.self_attn.v_proj.lora_A.default.weight\n",
      "    base_model.model.model.layers.7.self_attn.v_proj.lora_B.default.weight\n",
      "    base_model.model.model.layers.8.self_attn.q_proj.lora_A.default.weight\n",
      "    base_model.model.model.layers.8.self_attn.q_proj.lora_B.default.weight\n",
      "    base_model.model.model.layers.8.self_attn.v_proj.lora_A.default.weight\n",
      "    base_model.model.model.layers.8.self_attn.v_proj.lora_B.default.weight\n",
      "    base_model.model.model.layers.9.self_attn.q_proj.lora_A.default.weight\n",
      "    base_model.model.model.layers.9.self_attn.q_proj.lora_B.default.weight\n",
      "    base_model.model.model.layers.9.self_attn.v_proj.lora_A.default.weight\n",
      "    base_model.model.model.layers.9.self_attn.v_proj.lora_B.default.weight\n",
      "    base_model.model.model.layers.10.self_attn.q_proj.lora_A.default.weight\n",
      "    base_model.model.model.layers.10.self_attn.q_proj.lora_B.default.weight\n",
      "    base_model.model.model.layers.10.self_attn.v_proj.lora_A.default.weight\n",
      "    base_model.model.model.layers.10.self_attn.v_proj.lora_B.default.weight\n",
      "    base_model.model.model.layers.11.self_attn.q_proj.lora_A.default.weight\n",
      "    base_model.model.model.layers.11.self_attn.q_proj.lora_B.default.weight\n",
      "    base_model.model.model.layers.11.self_attn.v_proj.lora_A.default.weight\n",
      "    base_model.model.model.layers.11.self_attn.v_proj.lora_B.default.weight\n",
      "    base_model.model.model.layers.12.self_attn.q_proj.lora_A.default.weight\n",
      "    base_model.model.model.layers.12.self_attn.q_proj.lora_B.default.weight\n",
      "    base_model.model.model.layers.12.self_attn.v_proj.lora_A.default.weight\n",
      "    base_model.model.model.layers.12.self_attn.v_proj.lora_B.default.weight\n",
      "    base_model.model.model.layers.13.self_attn.q_proj.lora_A.default.weight\n",
      "    base_model.model.model.layers.13.self_attn.q_proj.lora_B.default.weight\n",
      "    base_model.model.model.layers.13.self_attn.v_proj.lora_A.default.weight\n",
      "    base_model.model.model.layers.13.self_attn.v_proj.lora_B.default.weight\n",
      "    base_model.model.model.layers.14.self_attn.q_proj.lora_A.default.weight\n",
      "    base_model.model.model.layers.14.self_attn.q_proj.lora_B.default.weight\n",
      "    base_model.model.model.layers.14.self_attn.v_proj.lora_A.default.weight\n",
      "    base_model.model.model.layers.14.self_attn.v_proj.lora_B.default.weight\n",
      "    base_model.model.model.layers.15.self_attn.q_proj.lora_A.default.weight\n",
      "    base_model.model.model.layers.15.self_attn.q_proj.lora_B.default.weight\n",
      "    base_model.model.model.layers.15.self_attn.v_proj.lora_A.default.weight\n",
      "    base_model.model.model.layers.15.self_attn.v_proj.lora_B.default.weight\n",
      "    base_model.model.model.layers.16.self_attn.q_proj.lora_A.default.weight\n",
      "    base_model.model.model.layers.16.self_attn.q_proj.lora_B.default.weight\n",
      "    base_model.model.model.layers.16.self_attn.v_proj.lora_A.default.weight\n",
      "    base_model.model.model.layers.16.self_attn.v_proj.lora_B.default.weight\n",
      "    base_model.model.model.layers.17.self_attn.q_proj.lora_A.default.weight\n",
      "    base_model.model.model.layers.17.self_attn.q_proj.lora_B.default.weight\n",
      "    base_model.model.model.layers.17.self_attn.v_proj.lora_A.default.weight\n",
      "    base_model.model.model.layers.17.self_attn.v_proj.lora_B.default.weight\n",
      "    base_model.model.model.layers.18.self_attn.q_proj.lora_A.default.weight\n",
      "    base_model.model.model.layers.18.self_attn.q_proj.lora_B.default.weight\n",
      "    base_model.model.model.layers.18.self_attn.v_proj.lora_A.default.weight\n",
      "    base_model.model.model.layers.18.self_attn.v_proj.lora_B.default.weight\n",
      "    base_model.model.model.layers.19.self_attn.q_proj.lora_A.default.weight\n",
      "    base_model.model.model.layers.19.self_attn.q_proj.lora_B.default.weight\n",
      "    base_model.model.model.layers.19.self_attn.v_proj.lora_A.default.weight\n",
      "    base_model.model.model.layers.19.self_attn.v_proj.lora_B.default.weight\n",
      "    base_model.model.model.layers.20.self_attn.q_proj.lora_A.default.weight\n",
      "    base_model.model.model.layers.20.self_attn.q_proj.lora_B.default.weight\n",
      "    base_model.model.model.layers.20.self_attn.v_proj.lora_A.default.weight\n",
      "    base_model.model.model.layers.20.self_attn.v_proj.lora_B.default.weight\n",
      "    base_model.model.model.layers.21.self_attn.q_proj.lora_A.default.weight\n",
      "    base_model.model.model.layers.21.self_attn.q_proj.lora_B.default.weight\n",
      "    base_model.model.model.layers.21.self_attn.v_proj.lora_A.default.weight\n",
      "    base_model.model.model.layers.21.self_attn.v_proj.lora_B.default.weight\n",
      "    base_model.model.model.layers.22.self_attn.q_proj.lora_A.default.weight\n",
      "    base_model.model.model.layers.22.self_attn.q_proj.lora_B.default.weight\n",
      "    base_model.model.model.layers.22.self_attn.v_proj.lora_A.default.weight\n",
      "    base_model.model.model.layers.22.self_attn.v_proj.lora_B.default.weight\n",
      "    base_model.model.model.layers.23.self_attn.q_proj.lora_A.default.weight\n",
      "    base_model.model.model.layers.23.self_attn.q_proj.lora_B.default.weight\n",
      "    base_model.model.model.layers.23.self_attn.v_proj.lora_A.default.weight\n",
      "    base_model.model.model.layers.23.self_attn.v_proj.lora_B.default.weight\n",
      "    base_model.model.model.layers.24.self_attn.q_proj.lora_A.default.weight\n",
      "    base_model.model.model.layers.24.self_attn.q_proj.lora_B.default.weight\n",
      "    base_model.model.model.layers.24.self_attn.v_proj.lora_A.default.weight\n",
      "    base_model.model.model.layers.24.self_attn.v_proj.lora_B.default.weight\n",
      "    base_model.model.model.layers.25.self_attn.q_proj.lora_A.default.weight\n",
      "    base_model.model.model.layers.25.self_attn.q_proj.lora_B.default.weight\n",
      "    base_model.model.model.layers.25.self_attn.v_proj.lora_A.default.weight\n",
      "    base_model.model.model.layers.25.self_attn.v_proj.lora_B.default.weight\n",
      "    base_model.model.model.layers.26.self_attn.q_proj.lora_A.default.weight\n",
      "    base_model.model.model.layers.26.self_attn.q_proj.lora_B.default.weight\n",
      "    base_model.model.model.layers.26.self_attn.v_proj.lora_A.default.weight\n",
      "    base_model.model.model.layers.26.self_attn.v_proj.lora_B.default.weight\n",
      "    base_model.model.model.layers.27.self_attn.q_proj.lora_A.default.weight\n",
      "    base_model.model.model.layers.27.self_attn.q_proj.lora_B.default.weight\n",
      "    base_model.model.model.layers.27.self_attn.v_proj.lora_A.default.weight\n",
      "    base_model.model.model.layers.27.self_attn.v_proj.lora_B.default.weight\n"
     ]
    },
    {
     "name": "stderr",
     "output_type": "stream",
     "text": [
      "Using auto half precision backend\n",
      "No label_names provided for model class `PeftModelForCausalLM`. Since `PeftModel` hides base models input arguments, if label_names is not given, label_names can't be set automatically within `Trainer`. Note that empty label_names list will be used instead.\n",
      "Currently training with a batch size of: 1\n",
      "***** Running training *****\n",
      "  Num examples = 475\n",
      "  Num Epochs = 1\n",
      "  Instantaneous batch size per device = 1\n",
      "  Total train batch size (w. parallel, distributed & accumulation) = 4\n",
      "  Gradient Accumulation steps = 4\n",
      "  Total optimization steps = 119\n",
      "  Number of trainable parameters = 2,293,760\n"
     ]
    },
    {
     "data": {
      "text/plain": [
       "<IPython.core.display.HTML object>"
      ],
      "text/html": [
       "\n",
       "    <div>\n",
       "      \n",
       "      <progress value='119' max='119' style='width:300px; height:20px; vertical-align: middle;'></progress>\n",
       "      [119/119 05:48, Epoch 1/1]\n",
       "    </div>\n",
       "    <table border=\"1\" class=\"dataframe\">\n",
       "  <thead>\n",
       " <tr style=\"text-align: left;\">\n",
       "      <th>Step</th>\n",
       "      <th>Training Loss</th>\n",
       "      <th>Validation Loss</th>\n",
       "      <th>Accuracy</th>\n",
       "    </tr>\n",
       "  </thead>\n",
       "  <tbody>\n",
       "    <tr>\n",
       "      <td>50</td>\n",
       "      <td>3.445900</td>\n",
       "      <td>0.637111</td>\n",
       "      <td>0.920937</td>\n",
       "    </tr>\n",
       "    <tr>\n",
       "      <td>100</td>\n",
       "      <td>0.570000</td>\n",
       "      <td>0.558839</td>\n",
       "      <td>0.921875</td>\n",
       "    </tr>\n",
       "  </tbody>\n",
       "</table><p>"
      ]
     },
     "metadata": {},
     "output_type": "display_data"
    },
    {
     "name": "stderr",
     "output_type": "stream",
     "text": [
      "\n",
      "***** Running Evaluation *****\n",
      "  Num examples = 25\n",
      "  Batch size = 1\n",
      "\n",
      "***** Running Evaluation *****\n",
      "  Num examples = 25\n",
      "  Batch size = 1\n",
      "Saving model checkpoint to experiments\\sweep_t0.5_lr0.0001\\checkpoint-119\n",
      "loading configuration file config.json from cache at C:\\Users\\jinet\\.cache\\huggingface\\hub\\models--meta-llama--Llama-3.2-3B-Instruct\\snapshots\\0cb88a4f764b7a12671c53f0838cd831a0843b95\\config.json\n",
      "Model config LlamaConfig {\n",
      "  \"architectures\": [\n",
      "    \"LlamaForCausalLM\"\n",
      "  ],\n",
      "  \"attention_bias\": false,\n",
      "  \"attention_dropout\": 0.0,\n",
      "  \"bos_token_id\": 128000,\n",
      "  \"eos_token_id\": [\n",
      "    128001,\n",
      "    128008,\n",
      "    128009\n",
      "  ],\n",
      "  \"head_dim\": 128,\n",
      "  \"hidden_act\": \"silu\",\n",
      "  \"hidden_size\": 3072,\n",
      "  \"initializer_range\": 0.02,\n",
      "  \"intermediate_size\": 8192,\n",
      "  \"max_position_embeddings\": 131072,\n",
      "  \"mlp_bias\": false,\n",
      "  \"model_type\": \"llama\",\n",
      "  \"num_attention_heads\": 24,\n",
      "  \"num_hidden_layers\": 28,\n",
      "  \"num_key_value_heads\": 8,\n",
      "  \"pretraining_tp\": 1,\n",
      "  \"rms_norm_eps\": 1e-05,\n",
      "  \"rope_scaling\": {\n",
      "    \"factor\": 32.0,\n",
      "    \"high_freq_factor\": 4.0,\n",
      "    \"low_freq_factor\": 1.0,\n",
      "    \"original_max_position_embeddings\": 8192,\n",
      "    \"rope_type\": \"llama3\"\n",
      "  },\n",
      "  \"rope_theta\": 500000.0,\n",
      "  \"tie_word_embeddings\": true,\n",
      "  \"torch_dtype\": \"bfloat16\",\n",
      "  \"transformers_version\": \"4.52.4\",\n",
      "  \"use_cache\": true,\n",
      "  \"vocab_size\": 128256\n",
      "}\n",
      "\n",
      "\n",
      "\n",
      "Training completed. Do not forget to share your model on huggingface.co/models =)\n",
      "\n",
      "\n"
     ]
    },
    {
     "data": {
      "text/plain": [
       "<Figure size 1200x400 with 2 Axes>"
      ],
      "image/png": "[encoded data removed]"
     },
     "metadata": {},
     "output_type": "display_data"
    },
    {
     "name": "stdout",
     "output_type": "stream",
     "text": [
      "[LoRA] Subplots salvati in experiments\\sweep_t0.5_lr0.0001\\lora_subplots.png\n",
      "[LoRA] Perplexity finale (train): 1.77\n"
     ]
    },
    {
     "name": "stderr",
     "output_type": "stream",
     "text": [
      "loading configuration file config.json from cache at C:\\Users\\jinet\\.cache\\huggingface\\hub\\models--meta-llama--Llama-3.2-3B-Instruct\\snapshots\\0cb88a4f764b7a12671c53f0838cd831a0843b95\\config.json\n",
      "Model config LlamaConfig {\n",
      "  \"architectures\": [\n",
      "    \"LlamaForCausalLM\"\n",
      "  ],\n",
      "  \"attention_bias\": false,\n",
      "  \"attention_dropout\": 0.0,\n",
      "  \"bos_token_id\": 128000,\n",
      "  \"eos_token_id\": [\n",
      "    128001,\n",
      "    128008,\n",
      "    128009\n",
      "  ],\n",
      "  \"head_dim\": 128,\n",
      "  \"hidden_act\": \"silu\",\n",
      "  \"hidden_size\": 3072,\n",
      "  \"initializer_range\": 0.02,\n",
      "  \"intermediate_size\": 8192,\n",
      "  \"max_position_embeddings\": 131072,\n",
      "  \"mlp_bias\": false,\n",
      "  \"model_type\": \"llama\",\n",
      "  \"num_attention_heads\": 24,\n",
      "  \"num_hidden_layers\": 28,\n",
      "  \"num_key_value_heads\": 8,\n",
      "  \"pretraining_tp\": 1,\n",
      "  \"rms_norm_eps\": 1e-05,\n",
      "  \"rope_scaling\": {\n",
      "    \"factor\": 32.0,\n",
      "    \"high_freq_factor\": 4.0,\n",
      "    \"low_freq_factor\": 1.0,\n",
      "    \"original_max_position_embeddings\": 8192,\n",
      "    \"rope_type\": \"llama3\"\n",
      "  },\n",
      "  \"rope_theta\": 500000.0,\n",
      "  \"tie_word_embeddings\": true,\n",
      "  \"torch_dtype\": \"bfloat16\",\n",
      "  \"transformers_version\": \"4.52.4\",\n",
      "  \"use_cache\": true,\n",
      "  \"vocab_size\": 128256\n",
      "}\n",
      "\n",
      "chat template saved in experiments\\sweep_t0.5_lr0.0001\\chat_template.jinja\n",
      "tokenizer config file saved in experiments\\sweep_t0.5_lr0.0001\\tokenizer_config.json\n",
      "Special tokens file saved in experiments\\sweep_t0.5_lr0.0001\\special_tokens_map.json\n"
     ]
    },
    {
     "name": "stdout",
     "output_type": "stream",
     "text": [
      "[LoRA] Adapter LoRA e tokenizer salvati in experiments\\sweep_t0.5_lr0.0001\n",
      "[LoRA] Esempi da experiments/train_subset_500.json: 500\n"
     ]
    },
    {
     "name": "stderr",
     "output_type": "stream",
     "text": [
      "C:\\Users\\jinet\\anaconda3\\envs\\whisperGPUNuovo\\lib\\site-packages\\transformers\\models\\auto\\tokenization_auto.py:902: FutureWarning: The `use_auth_token` argument is deprecated and will be removed in v5 of Transformers. Please use `token` instead.\n",
      "  warnings.warn(\n",
      "loading file tokenizer.json from cache at C:\\Users\\jinet\\.cache\\huggingface\\hub\\models--meta-llama--Llama-3.2-3B-Instruct\\snapshots\\0cb88a4f764b7a12671c53f0838cd831a0843b95\\tokenizer.json\n",
      "loading file tokenizer.model from cache at None\n",
      "loading file added_tokens.json from cache at None\n",
      "loading file special_tokens_map.json from cache at C:\\Users\\jinet\\.cache\\huggingface\\hub\\models--meta-llama--Llama-3.2-3B-Instruct\\snapshots\\0cb88a4f764b7a12671c53f0838cd831a0843b95\\special_tokens_map.json\n",
      "loading file tokenizer_config.json from cache at C:\\Users\\jinet\\.cache\\huggingface\\hub\\models--meta-llama--Llama-3.2-3B-Instruct\\snapshots\\0cb88a4f764b7a12671c53f0838cd831a0843b95\\tokenizer_config.json\n",
      "loading file chat_template.jinja from cache at None\n",
      "Special tokens have been added in the vocabulary, make sure the associated word embeddings are fine-tuned or trained.\n"
     ]
    },
    {
     "name": "stdout",
     "output_type": "stream",
     "text": [
      "[LoRA] Train/Val sizes = 475/25\n",
      "[LoRA] Dataset tokenization debug salvato in lora_dataset_debug.csv\n"
     ]
    },
    {
     "data": {
      "text/plain": [
       "Map:   0%|          | 0/475 [00:00<?, ? examples/s]"
      ],
      "application/vnd.jupyter.widget-view+json": {
       "version_major": 2,
       "version_minor": 0,
       "model_id": "894e01b04b5f414d8fd2488be0c3bc08"
      }
     },
     "metadata": {},
     "output_type": "display_data"
    },
    {
     "data": {
      "text/plain": [
       "Map:   0%|          | 0/25 [00:00<?, ? examples/s]"
      ],
      "application/vnd.jupyter.widget-view+json": {
       "version_major": 2,
       "version_minor": 0,
       "model_id": "e1d53de766d843be8a2c77384abb5f57"
      }
     },
     "metadata": {},
     "output_type": "display_data"
    },
    {
     "name": "stdout",
     "output_type": "stream",
     "text": [
      "[LoRA] Device: cuda\n",
      "[LoRA] ⚙️  Preparazione caricamento modello…\n"
     ]
    },
    {
     "name": "stderr",
     "output_type": "stream",
     "text": [
      "loading configuration file config.json from cache at C:\\Users\\jinet\\.cache\\huggingface\\hub\\models--meta-llama--Llama-3.2-3B-Instruct\\snapshots\\0cb88a4f764b7a12671c53f0838cd831a0843b95\\config.json\n",
      "Model config LlamaConfig {\n",
      "  \"architectures\": [\n",
      "    \"LlamaForCausalLM\"\n",
      "  ],\n",
      "  \"attention_bias\": false,\n",
      "  \"attention_dropout\": 0.0,\n",
      "  \"bos_token_id\": 128000,\n",
      "  \"eos_token_id\": [\n",
      "    128001,\n",
      "    128008,\n",
      "    128009\n",
      "  ],\n",
      "  \"head_dim\": 128,\n",
      "  \"hidden_act\": \"silu\",\n",
      "  \"hidden_size\": 3072,\n",
      "  \"initializer_range\": 0.02,\n",
      "  \"intermediate_size\": 8192,\n",
      "  \"max_position_embeddings\": 131072,\n",
      "  \"mlp_bias\": false,\n",
      "  \"model_type\": \"llama\",\n",
      "  \"num_attention_heads\": 24,\n",
      "  \"num_hidden_layers\": 28,\n",
      "  \"num_key_value_heads\": 8,\n",
      "  \"pretraining_tp\": 1,\n",
      "  \"rms_norm_eps\": 1e-05,\n",
      "  \"rope_scaling\": {\n",
      "    \"factor\": 32.0,\n",
      "    \"high_freq_factor\": 4.0,\n",
      "    \"low_freq_factor\": 1.0,\n",
      "    \"original_max_position_embeddings\": 8192,\n",
      "    \"rope_type\": \"llama3\"\n",
      "  },\n",
      "  \"rope_theta\": 500000.0,\n",
      "  \"tie_word_embeddings\": true,\n",
      "  \"torch_dtype\": \"bfloat16\",\n",
      "  \"transformers_version\": \"4.52.4\",\n",
      "  \"use_cache\": true,\n",
      "  \"vocab_size\": 128256\n",
      "}\n",
      "\n",
      "Multi-backend validation successful.\n",
      "Overriding torch_dtype=None with `torch_dtype=torch.float16` due to requirements of `bitsandbytes` to enable model loading in 8-bit or 4-bit. Pass your own torch_dtype to specify the dtype of the remaining non-linear layers or pass torch_dtype=torch.float16 to remove this warning.\n",
      "loading weights file model.safetensors from cache at C:\\Users\\jinet\\.cache\\huggingface\\hub\\models--meta-llama--Llama-3.2-3B-Instruct\\snapshots\\0cb88a4f764b7a12671c53f0838cd831a0843b95\\model.safetensors.index.json\n",
      "Instantiating LlamaForCausalLM model under default dtype torch.float16.\n",
      "Generate config GenerationConfig {\n",
      "  \"bos_token_id\": 128000,\n",
      "  \"eos_token_id\": [\n",
      "    128001,\n",
      "    128008,\n",
      "    128009\n",
      "  ]\n",
      "}\n",
      "\n",
      "target_dtype {target_dtype} is replaced by `CustomDtype.INT4` for 4-bit BnB quantization\n",
      "Multi-backend validation successful.\n"
     ]
    },
    {
     "data": {
      "text/plain": [
       "Loading checkpoint shards:   0%|          | 0/2 [00:00<?, ?it/s]"
      ],
      "application/vnd.jupyter.widget-view+json": {
       "version_major": 2,
       "version_minor": 0,
       "model_id": "3a22aba65e804d16838c7c46f133269d"
      }
     },
     "metadata": {},
     "output_type": "display_data"
    },
    {
     "name": "stderr",
     "output_type": "stream",
     "text": [
      "All model checkpoint weights were used when initializing LlamaForCausalLM.\n",
      "\n",
      "All the weights of LlamaForCausalLM were initialized from the model checkpoint at meta-llama/Llama-3.2-3B-Instruct.\n",
      "If your task is similar to the task the model of the checkpoint was trained on, you can already use LlamaForCausalLM for predictions without further training.\n",
      "loading configuration file generation_config.json from cache at C:\\Users\\jinet\\.cache\\huggingface\\hub\\models--meta-llama--Llama-3.2-3B-Instruct\\snapshots\\0cb88a4f764b7a12671c53f0838cd831a0843b95\\generation_config.json\n",
      "Generate config GenerationConfig {\n",
      "  \"bos_token_id\": 128000,\n",
      "  \"do_sample\": true,\n",
      "  \"eos_token_id\": [\n",
      "    128001,\n",
      "    128008,\n",
      "    128009\n",
      "  ],\n",
      "  \"temperature\": 0.6,\n",
      "  \"top_p\": 0.9\n",
      "}\n",
      "\n",
      "PyTorch: setting up devices\n"
     ]
    },
    {
     "name": "stdout",
     "output_type": "stream",
     "text": [
      "[LoRA] ✅ from_pretrained in 19.7s\n",
      "[LoRA] ✅ device mapping completato in 0.0s\n",
      ">>> Parametri che richiedono grad (112):\n",
      "    base_model.model.model.layers.0.self_attn.q_proj.lora_A.default.weight\n",
      "    base_model.model.model.layers.0.self_attn.q_proj.lora_B.default.weight\n",
      "    base_model.model.model.layers.0.self_attn.v_proj.lora_A.default.weight\n",
      "    base_model.model.model.layers.0.self_attn.v_proj.lora_B.default.weight\n",
      "    base_model.model.model.layers.1.self_attn.q_proj.lora_A.default.weight\n",
      "    base_model.model.model.layers.1.self_attn.q_proj.lora_B.default.weight\n",
      "    base_model.model.model.layers.1.self_attn.v_proj.lora_A.default.weight\n",
      "    base_model.model.model.layers.1.self_attn.v_proj.lora_B.default.weight\n",
      "    base_model.model.model.layers.2.self_attn.q_proj.lora_A.default.weight\n",
      "    base_model.model.model.layers.2.self_attn.q_proj.lora_B.default.weight\n",
      "    base_model.model.model.layers.2.self_attn.v_proj.lora_A.default.weight\n",
      "    base_model.model.model.layers.2.self_attn.v_proj.lora_B.default.weight\n",
      "    base_model.model.model.layers.3.self_attn.q_proj.lora_A.default.weight\n",
      "    base_model.model.model.layers.3.self_attn.q_proj.lora_B.default.weight\n",
      "    base_model.model.model.layers.3.self_attn.v_proj.lora_A.default.weight\n",
      "    base_model.model.model.layers.3.self_attn.v_proj.lora_B.default.weight\n",
      "    base_model.model.model.layers.4.self_attn.q_proj.lora_A.default.weight\n",
      "    base_model.model.model.layers.4.self_attn.q_proj.lora_B.default.weight\n",
      "    base_model.model.model.layers.4.self_attn.v_proj.lora_A.default.weight\n",
      "    base_model.model.model.layers.4.self_attn.v_proj.lora_B.default.weight\n",
      "    base_model.model.model.layers.5.self_attn.q_proj.lora_A.default.weight\n",
      "    base_model.model.model.layers.5.self_attn.q_proj.lora_B.default.weight\n",
      "    base_model.model.model.layers.5.self_attn.v_proj.lora_A.default.weight\n",
      "    base_model.model.model.layers.5.self_attn.v_proj.lora_B.default.weight\n",
      "    base_model.model.model.layers.6.self_attn.q_proj.lora_A.default.weight\n",
      "    base_model.model.model.layers.6.self_attn.q_proj.lora_B.default.weight\n",
      "    base_model.model.model.layers.6.self_attn.v_proj.lora_A.default.weight\n",
      "    base_model.model.model.layers.6.self_attn.v_proj.lora_B.default.weight\n",
      "    base_model.model.model.layers.7.self_attn.q_proj.lora_A.default.weight\n",
      "    base_model.model.model.layers.7.self_attn.q_proj.lora_B.default.weight\n",
      "    base_model.model.model.layers.7.self_attn.v_proj.lora_A.default.weight\n",
      "    base_model.model.model.layers.7.self_attn.v_proj.lora_B.default.weight\n",
      "    base_model.model.model.layers.8.self_attn.q_proj.lora_A.default.weight\n",
      "    base_model.model.model.layers.8.self_attn.q_proj.lora_B.default.weight\n",
      "    base_model.model.model.layers.8.self_attn.v_proj.lora_A.default.weight\n",
      "    base_model.model.model.layers.8.self_attn.v_proj.lora_B.default.weight\n",
      "    base_model.model.model.layers.9.self_attn.q_proj.lora_A.default.weight\n",
      "    base_model.model.model.layers.9.self_attn.q_proj.lora_B.default.weight\n",
      "    base_model.model.model.layers.9.self_attn.v_proj.lora_A.default.weight\n",
      "    base_model.model.model.layers.9.self_attn.v_proj.lora_B.default.weight\n",
      "    base_model.model.model.layers.10.self_attn.q_proj.lora_A.default.weight\n",
      "    base_model.model.model.layers.10.self_attn.q_proj.lora_B.default.weight\n",
      "    base_model.model.model.layers.10.self_attn.v_proj.lora_A.default.weight\n",
      "    base_model.model.model.layers.10.self_attn.v_proj.lora_B.default.weight\n",
      "    base_model.model.model.layers.11.self_attn.q_proj.lora_A.default.weight\n",
      "    base_model.model.model.layers.11.self_attn.q_proj.lora_B.default.weight\n",
      "    base_model.model.model.layers.11.self_attn.v_proj.lora_A.default.weight\n",
      "    base_model.model.model.layers.11.self_attn.v_proj.lora_B.default.weight\n",
      "    base_model.model.model.layers.12.self_attn.q_proj.lora_A.default.weight\n",
      "    base_model.model.model.layers.12.self_attn.q_proj.lora_B.default.weight\n",
      "    base_model.model.model.layers.12.self_attn.v_proj.lora_A.default.weight\n",
      "    base_model.model.model.layers.12.self_attn.v_proj.lora_B.default.weight\n",
      "    base_model.model.model.layers.13.self_attn.q_proj.lora_A.default.weight\n",
      "    base_model.model.model.layers.13.self_attn.q_proj.lora_B.default.weight\n",
      "    base_model.model.model.layers.13.self_attn.v_proj.lora_A.default.weight\n",
      "    base_model.model.model.layers.13.self_attn.v_proj.lora_B.default.weight\n",
      "    base_model.model.model.layers.14.self_attn.q_proj.lora_A.default.weight\n",
      "    base_model.model.model.layers.14.self_attn.q_proj.lora_B.default.weight\n",
      "    base_model.model.model.layers.14.self_attn.v_proj.lora_A.default.weight\n",
      "    base_model.model.model.layers.14.self_attn.v_proj.lora_B.default.weight\n",
      "    base_model.model.model.layers.15.self_attn.q_proj.lora_A.default.weight\n",
      "    base_model.model.model.layers.15.self_attn.q_proj.lora_B.default.weight\n",
      "    base_model.model.model.layers.15.self_attn.v_proj.lora_A.default.weight\n",
      "    base_model.model.model.layers.15.self_attn.v_proj.lora_B.default.weight\n",
      "    base_model.model.model.layers.16.self_attn.q_proj.lora_A.default.weight\n",
      "    base_model.model.model.layers.16.self_attn.q_proj.lora_B.default.weight\n",
      "    base_model.model.model.layers.16.self_attn.v_proj.lora_A.default.weight\n",
      "    base_model.model.model.layers.16.self_attn.v_proj.lora_B.default.weight\n",
      "    base_model.model.model.layers.17.self_attn.q_proj.lora_A.default.weight\n",
      "    base_model.model.model.layers.17.self_attn.q_proj.lora_B.default.weight\n",
      "    base_model.model.model.layers.17.self_attn.v_proj.lora_A.default.weight\n",
      "    base_model.model.model.layers.17.self_attn.v_proj.lora_B.default.weight\n",
      "    base_model.model.model.layers.18.self_attn.q_proj.lora_A.default.weight\n",
      "    base_model.model.model.layers.18.self_attn.q_proj.lora_B.default.weight\n",
      "    base_model.model.model.layers.18.self_attn.v_proj.lora_A.default.weight\n",
      "    base_model.model.model.layers.18.self_attn.v_proj.lora_B.default.weight\n",
      "    base_model.model.model.layers.19.self_attn.q_proj.lora_A.default.weight\n",
      "    base_model.model.model.layers.19.self_attn.q_proj.lora_B.default.weight\n",
      "    base_model.model.model.layers.19.self_attn.v_proj.lora_A.default.weight\n",
      "    base_model.model.model.layers.19.self_attn.v_proj.lora_B.default.weight\n",
      "    base_model.model.model.layers.20.self_attn.q_proj.lora_A.default.weight\n",
      "    base_model.model.model.layers.20.self_attn.q_proj.lora_B.default.weight\n",
      "    base_model.model.model.layers.20.self_attn.v_proj.lora_A.default.weight\n",
      "    base_model.model.model.layers.20.self_attn.v_proj.lora_B.default.weight\n",
      "    base_model.model.model.layers.21.self_attn.q_proj.lora_A.default.weight\n",
      "    base_model.model.model.layers.21.self_attn.q_proj.lora_B.default.weight\n",
      "    base_model.model.model.layers.21.self_attn.v_proj.lora_A.default.weight\n",
      "    base_model.model.model.layers.21.self_attn.v_proj.lora_B.default.weight\n",
      "    base_model.model.model.layers.22.self_attn.q_proj.lora_A.default.weight\n",
      "    base_model.model.model.layers.22.self_attn.q_proj.lora_B.default.weight\n",
      "    base_model.model.model.layers.22.self_attn.v_proj.lora_A.default.weight\n",
      "    base_model.model.model.layers.22.self_attn.v_proj.lora_B.default.weight\n",
      "    base_model.model.model.layers.23.self_attn.q_proj.lora_A.default.weight\n",
      "    base_model.model.model.layers.23.self_attn.q_proj.lora_B.default.weight\n",
      "    base_model.model.model.layers.23.self_attn.v_proj.lora_A.default.weight\n",
      "    base_model.model.model.layers.23.self_attn.v_proj.lora_B.default.weight\n",
      "    base_model.model.model.layers.24.self_attn.q_proj.lora_A.default.weight\n",
      "    base_model.model.model.layers.24.self_attn.q_proj.lora_B.default.weight\n",
      "    base_model.model.model.layers.24.self_attn.v_proj.lora_A.default.weight\n",
      "    base_model.model.model.layers.24.self_attn.v_proj.lora_B.default.weight\n",
      "    base_model.model.model.layers.25.self_attn.q_proj.lora_A.default.weight\n",
      "    base_model.model.model.layers.25.self_attn.q_proj.lora_B.default.weight\n",
      "    base_model.model.model.layers.25.self_attn.v_proj.lora_A.default.weight\n",
      "    base_model.model.model.layers.25.self_attn.v_proj.lora_B.default.weight\n",
      "    base_model.model.model.layers.26.self_attn.q_proj.lora_A.default.weight\n",
      "    base_model.model.model.layers.26.self_attn.q_proj.lora_B.default.weight\n",
      "    base_model.model.model.layers.26.self_attn.v_proj.lora_A.default.weight\n",
      "    base_model.model.model.layers.26.self_attn.v_proj.lora_B.default.weight\n",
      "    base_model.model.model.layers.27.self_attn.q_proj.lora_A.default.weight\n",
      "    base_model.model.model.layers.27.self_attn.q_proj.lora_B.default.weight\n",
      "    base_model.model.model.layers.27.self_attn.v_proj.lora_A.default.weight\n",
      "    base_model.model.model.layers.27.self_attn.v_proj.lora_B.default.weight\n"
     ]
    },
    {
     "name": "stderr",
     "output_type": "stream",
     "text": [
      "Using auto half precision backend\n",
      "No label_names provided for model class `PeftModelForCausalLM`. Since `PeftModel` hides base models input arguments, if label_names is not given, label_names can't be set automatically within `Trainer`. Note that empty label_names list will be used instead.\n",
      "Currently training with a batch size of: 1\n",
      "***** Running training *****\n",
      "  Num examples = 475\n",
      "  Num Epochs = 1\n",
      "  Instantaneous batch size per device = 1\n",
      "  Total train batch size (w. parallel, distributed & accumulation) = 4\n",
      "  Gradient Accumulation steps = 4\n",
      "  Total optimization steps = 119\n",
      "  Number of trainable parameters = 2,293,760\n"
     ]
    },
    {
     "data": {
      "text/plain": [
       "<IPython.core.display.HTML object>"
      ],
      "text/html": [
       "\n",
       "    <div>\n",
       "      \n",
       "      <progress value='119' max='119' style='width:300px; height:20px; vertical-align: middle;'></progress>\n",
       "      [119/119 05:53, Epoch 1/1]\n",
       "    </div>\n",
       "    <table border=\"1\" class=\"dataframe\">\n",
       "  <thead>\n",
       " <tr style=\"text-align: left;\">\n",
       "      <th>Step</th>\n",
       "      <th>Training Loss</th>\n",
       "      <th>Validation Loss</th>\n",
       "      <th>Accuracy</th>\n",
       "    </tr>\n",
       "  </thead>\n",
       "  <tbody>\n",
       "    <tr>\n",
       "      <td>50</td>\n",
       "      <td>5.732700</td>\n",
       "      <td>2.022326</td>\n",
       "      <td>0.766250</td>\n",
       "    </tr>\n",
       "    <tr>\n",
       "      <td>100</td>\n",
       "      <td>0.975900</td>\n",
       "      <td>0.671696</td>\n",
       "      <td>0.917500</td>\n",
       "    </tr>\n",
       "  </tbody>\n",
       "</table><p>"
      ]
     },
     "metadata": {},
     "output_type": "display_data"
    },
    {
     "name": "stderr",
     "output_type": "stream",
     "text": [
      "\n",
      "***** Running Evaluation *****\n",
      "  Num examples = 25\n",
      "  Batch size = 1\n",
      "\n",
      "***** Running Evaluation *****\n",
      "  Num examples = 25\n",
      "  Batch size = 1\n",
      "Saving model checkpoint to experiments\\sweep_t0.8_lr5e-05\\checkpoint-119\n",
      "loading configuration file config.json from cache at C:\\Users\\jinet\\.cache\\huggingface\\hub\\models--meta-llama--Llama-3.2-3B-Instruct\\snapshots\\0cb88a4f764b7a12671c53f0838cd831a0843b95\\config.json\n",
      "Model config LlamaConfig {\n",
      "  \"architectures\": [\n",
      "    \"LlamaForCausalLM\"\n",
      "  ],\n",
      "  \"attention_bias\": false,\n",
      "  \"attention_dropout\": 0.0,\n",
      "  \"bos_token_id\": 128000,\n",
      "  \"eos_token_id\": [\n",
      "    128001,\n",
      "    128008,\n",
      "    128009\n",
      "  ],\n",
      "  \"head_dim\": 128,\n",
      "  \"hidden_act\": \"silu\",\n",
      "  \"hidden_size\": 3072,\n",
      "  \"initializer_range\": 0.02,\n",
      "  \"intermediate_size\": 8192,\n",
      "  \"max_position_embeddings\": 131072,\n",
      "  \"mlp_bias\": false,\n",
      "  \"model_type\": \"llama\",\n",
      "  \"num_attention_heads\": 24,\n",
      "  \"num_hidden_layers\": 28,\n",
      "  \"num_key_value_heads\": 8,\n",
      "  \"pretraining_tp\": 1,\n",
      "  \"rms_norm_eps\": 1e-05,\n",
      "  \"rope_scaling\": {\n",
      "    \"factor\": 32.0,\n",
      "    \"high_freq_factor\": 4.0,\n",
      "    \"low_freq_factor\": 1.0,\n",
      "    \"original_max_position_embeddings\": 8192,\n",
      "    \"rope_type\": \"llama3\"\n",
      "  },\n",
      "  \"rope_theta\": 500000.0,\n",
      "  \"tie_word_embeddings\": true,\n",
      "  \"torch_dtype\": \"bfloat16\",\n",
      "  \"transformers_version\": \"4.52.4\",\n",
      "  \"use_cache\": true,\n",
      "  \"vocab_size\": 128256\n",
      "}\n",
      "\n",
      "\n",
      "\n",
      "Training completed. Do not forget to share your model on huggingface.co/models =)\n",
      "\n",
      "\n"
     ]
    },
    {
     "data": {
      "text/plain": [
       "<Figure size 1200x400 with 2 Axes>"
      ],
      "image/png": "[encoded data removed]"
     },
     "metadata": {},
     "output_type": "display_data"
    },
    {
     "name": "stdout",
     "output_type": "stream",
     "text": [
      "[LoRA] Subplots salvati in experiments\\sweep_t0.8_lr5e-05\\lora_subplots.png\n",
      "[LoRA] Perplexity finale (train): 2.65\n"
     ]
    },
    {
     "name": "stderr",
     "output_type": "stream",
     "text": [
      "loading configuration file config.json from cache at C:\\Users\\jinet\\.cache\\huggingface\\hub\\models--meta-llama--Llama-3.2-3B-Instruct\\snapshots\\0cb88a4f764b7a12671c53f0838cd831a0843b95\\config.json\n",
      "Model config LlamaConfig {\n",
      "  \"architectures\": [\n",
      "    \"LlamaForCausalLM\"\n",
      "  ],\n",
      "  \"attention_bias\": false,\n",
      "  \"attention_dropout\": 0.0,\n",
      "  \"bos_token_id\": 128000,\n",
      "  \"eos_token_id\": [\n",
      "    128001,\n",
      "    128008,\n",
      "    128009\n",
      "  ],\n",
      "  \"head_dim\": 128,\n",
      "  \"hidden_act\": \"silu\",\n",
      "  \"hidden_size\": 3072,\n",
      "  \"initializer_range\": 0.02,\n",
      "  \"intermediate_size\": 8192,\n",
      "  \"max_position_embeddings\": 131072,\n",
      "  \"mlp_bias\": false,\n",
      "  \"model_type\": \"llama\",\n",
      "  \"num_attention_heads\": 24,\n",
      "  \"num_hidden_layers\": 28,\n",
      "  \"num_key_value_heads\": 8,\n",
      "  \"pretraining_tp\": 1,\n",
      "  \"rms_norm_eps\": 1e-05,\n",
      "  \"rope_scaling\": {\n",
      "    \"factor\": 32.0,\n",
      "    \"high_freq_factor\": 4.0,\n",
      "    \"low_freq_factor\": 1.0,\n",
      "    \"original_max_position_embeddings\": 8192,\n",
      "    \"rope_type\": \"llama3\"\n",
      "  },\n",
      "  \"rope_theta\": 500000.0,\n",
      "  \"tie_word_embeddings\": true,\n",
      "  \"torch_dtype\": \"bfloat16\",\n",
      "  \"transformers_version\": \"4.52.4\",\n",
      "  \"use_cache\": true,\n",
      "  \"vocab_size\": 128256\n",
      "}\n",
      "\n",
      "chat template saved in experiments\\sweep_t0.8_lr5e-05\\chat_template.jinja\n",
      "tokenizer config file saved in experiments\\sweep_t0.8_lr5e-05\\tokenizer_config.json\n",
      "Special tokens file saved in experiments\\sweep_t0.8_lr5e-05\\special_tokens_map.json\n"
     ]
    },
    {
     "name": "stdout",
     "output_type": "stream",
     "text": [
      "[LoRA] Adapter LoRA e tokenizer salvati in experiments\\sweep_t0.8_lr5e-05\n",
      "[LoRA] Esempi da experiments/train_subset_500.json: 500\n"
     ]
    },
    {
     "name": "stderr",
     "output_type": "stream",
     "text": [
      "C:\\Users\\jinet\\anaconda3\\envs\\whisperGPUNuovo\\lib\\site-packages\\transformers\\models\\auto\\tokenization_auto.py:902: FutureWarning: The `use_auth_token` argument is deprecated and will be removed in v5 of Transformers. Please use `token` instead.\n",
      "  warnings.warn(\n",
      "loading file tokenizer.json from cache at C:\\Users\\jinet\\.cache\\huggingface\\hub\\models--meta-llama--Llama-3.2-3B-Instruct\\snapshots\\0cb88a4f764b7a12671c53f0838cd831a0843b95\\tokenizer.json\n",
      "loading file tokenizer.model from cache at None\n",
      "loading file added_tokens.json from cache at None\n",
      "loading file special_tokens_map.json from cache at C:\\Users\\jinet\\.cache\\huggingface\\hub\\models--meta-llama--Llama-3.2-3B-Instruct\\snapshots\\0cb88a4f764b7a12671c53f0838cd831a0843b95\\special_tokens_map.json\n",
      "loading file tokenizer_config.json from cache at C:\\Users\\jinet\\.cache\\huggingface\\hub\\models--meta-llama--Llama-3.2-3B-Instruct\\snapshots\\0cb88a4f764b7a12671c53f0838cd831a0843b95\\tokenizer_config.json\n",
      "loading file chat_template.jinja from cache at None\n",
      "Special tokens have been added in the vocabulary, make sure the associated word embeddings are fine-tuned or trained.\n"
     ]
    },
    {
     "name": "stdout",
     "output_type": "stream",
     "text": [
      "[LoRA] Train/Val sizes = 475/25\n",
      "[LoRA] Dataset tokenization debug salvato in lora_dataset_debug.csv\n"
     ]
    },
    {
     "data": {
      "text/plain": [
       "Map:   0%|          | 0/475 [00:00<?, ? examples/s]"
      ],
      "application/vnd.jupyter.widget-view+json": {
       "version_major": 2,
       "version_minor": 0,
       "model_id": "802a9a88b4b6426097ff4f843e1a88f9"
      }
     },
     "metadata": {},
     "output_type": "display_data"
    },
    {
     "data": {
      "text/plain": [
       "Map:   0%|          | 0/25 [00:00<?, ? examples/s]"
      ],
      "application/vnd.jupyter.widget-view+json": {
       "version_major": 2,
       "version_minor": 0,
       "model_id": "f0cf9c170f2c4cd6a8e83d7c6462a5e1"
      }
     },
     "metadata": {},
     "output_type": "display_data"
    },
    {
     "name": "stdout",
     "output_type": "stream",
     "text": [
      "[LoRA] Device: cuda\n",
      "[LoRA] ⚙️  Preparazione caricamento modello…\n"
     ]
    },
    {
     "name": "stderr",
     "output_type": "stream",
     "text": [
      "loading configuration file config.json from cache at C:\\Users\\jinet\\.cache\\huggingface\\hub\\models--meta-llama--Llama-3.2-3B-Instruct\\snapshots\\0cb88a4f764b7a12671c53f0838cd831a0843b95\\config.json\n",
      "Model config LlamaConfig {\n",
      "  \"architectures\": [\n",
      "    \"LlamaForCausalLM\"\n",
      "  ],\n",
      "  \"attention_bias\": false,\n",
      "  \"attention_dropout\": 0.0,\n",
      "  \"bos_token_id\": 128000,\n",
      "  \"eos_token_id\": [\n",
      "    128001,\n",
      "    128008,\n",
      "    128009\n",
      "  ],\n",
      "  \"head_dim\": 128,\n",
      "  \"hidden_act\": \"silu\",\n",
      "  \"hidden_size\": 3072,\n",
      "  \"initializer_range\": 0.02,\n",
      "  \"intermediate_size\": 8192,\n",
      "  \"max_position_embeddings\": 131072,\n",
      "  \"mlp_bias\": false,\n",
      "  \"model_type\": \"llama\",\n",
      "  \"num_attention_heads\": 24,\n",
      "  \"num_hidden_layers\": 28,\n",
      "  \"num_key_value_heads\": 8,\n",
      "  \"pretraining_tp\": 1,\n",
      "  \"rms_norm_eps\": 1e-05,\n",
      "  \"rope_scaling\": {\n",
      "    \"factor\": 32.0,\n",
      "    \"high_freq_factor\": 4.0,\n",
      "    \"low_freq_factor\": 1.0,\n",
      "    \"original_max_position_embeddings\": 8192,\n",
      "    \"rope_type\": \"llama3\"\n",
      "  },\n",
      "  \"rope_theta\": 500000.0,\n",
      "  \"tie_word_embeddings\": true,\n",
      "  \"torch_dtype\": \"bfloat16\",\n",
      "  \"transformers_version\": \"4.52.4\",\n",
      "  \"use_cache\": true,\n",
      "  \"vocab_size\": 128256\n",
      "}\n",
      "\n",
      "Multi-backend validation successful.\n",
      "Overriding torch_dtype=None with `torch_dtype=torch.float16` due to requirements of `bitsandbytes` to enable model loading in 8-bit or 4-bit. Pass your own torch_dtype to specify the dtype of the remaining non-linear layers or pass torch_dtype=torch.float16 to remove this warning.\n",
      "loading weights file model.safetensors from cache at C:\\Users\\jinet\\.cache\\huggingface\\hub\\models--meta-llama--Llama-3.2-3B-Instruct\\snapshots\\0cb88a4f764b7a12671c53f0838cd831a0843b95\\model.safetensors.index.json\n",
      "Instantiating LlamaForCausalLM model under default dtype torch.float16.\n",
      "Generate config GenerationConfig {\n",
      "  \"bos_token_id\": 128000,\n",
      "  \"eos_token_id\": [\n",
      "    128001,\n",
      "    128008,\n",
      "    128009\n",
      "  ]\n",
      "}\n",
      "\n",
      "target_dtype {target_dtype} is replaced by `CustomDtype.INT4` for 4-bit BnB quantization\n",
      "Multi-backend validation successful.\n"
     ]
    },
    {
     "data": {
      "text/plain": [
       "Loading checkpoint shards:   0%|          | 0/2 [00:00<?, ?it/s]"
      ],
      "application/vnd.jupyter.widget-view+json": {
       "version_major": 2,
       "version_minor": 0,
       "model_id": "7b010f5e49c14065b88c3a08ca62301a"
      }
     },
     "metadata": {},
     "output_type": "display_data"
    },
    {
     "name": "stderr",
     "output_type": "stream",
     "text": [
      "All model checkpoint weights were used when initializing LlamaForCausalLM.\n",
      "\n",
      "All the weights of LlamaForCausalLM were initialized from the model checkpoint at meta-llama/Llama-3.2-3B-Instruct.\n",
      "If your task is similar to the task the model of the checkpoint was trained on, you can already use LlamaForCausalLM for predictions without further training.\n",
      "loading configuration file generation_config.json from cache at C:\\Users\\jinet\\.cache\\huggingface\\hub\\models--meta-llama--Llama-3.2-3B-Instruct\\snapshots\\0cb88a4f764b7a12671c53f0838cd831a0843b95\\generation_config.json\n",
      "Generate config GenerationConfig {\n",
      "  \"bos_token_id\": 128000,\n",
      "  \"do_sample\": true,\n",
      "  \"eos_token_id\": [\n",
      "    128001,\n",
      "    128008,\n",
      "    128009\n",
      "  ],\n",
      "  \"temperature\": 0.6,\n",
      "  \"top_p\": 0.9\n",
      "}\n",
      "\n",
      "PyTorch: setting up devices\n"
     ]
    },
    {
     "name": "stdout",
     "output_type": "stream",
     "text": [
      "[LoRA] ✅ from_pretrained in 17.9s\n",
      "[LoRA] ✅ device mapping completato in 0.0s\n",
      ">>> Parametri che richiedono grad (112):\n",
      "    base_model.model.model.layers.0.self_attn.q_proj.lora_A.default.weight\n",
      "    base_model.model.model.layers.0.self_attn.q_proj.lora_B.default.weight\n",
      "    base_model.model.model.layers.0.self_attn.v_proj.lora_A.default.weight\n",
      "    base_model.model.model.layers.0.self_attn.v_proj.lora_B.default.weight\n",
      "    base_model.model.model.layers.1.self_attn.q_proj.lora_A.default.weight\n",
      "    base_model.model.model.layers.1.self_attn.q_proj.lora_B.default.weight\n",
      "    base_model.model.model.layers.1.self_attn.v_proj.lora_A.default.weight\n",
      "    base_model.model.model.layers.1.self_attn.v_proj.lora_B.default.weight\n",
      "    base_model.model.model.layers.2.self_attn.q_proj.lora_A.default.weight\n",
      "    base_model.model.model.layers.2.self_attn.q_proj.lora_B.default.weight\n",
      "    base_model.model.model.layers.2.self_attn.v_proj.lora_A.default.weight\n",
      "    base_model.model.model.layers.2.self_attn.v_proj.lora_B.default.weight\n",
      "    base_model.model.model.layers.3.self_attn.q_proj.lora_A.default.weight\n",
      "    base_model.model.model.layers.3.self_attn.q_proj.lora_B.default.weight\n",
      "    base_model.model.model.layers.3.self_attn.v_proj.lora_A.default.weight\n",
      "    base_model.model.model.layers.3.self_attn.v_proj.lora_B.default.weight\n",
      "    base_model.model.model.layers.4.self_attn.q_proj.lora_A.default.weight\n",
      "    base_model.model.model.layers.4.self_attn.q_proj.lora_B.default.weight\n",
      "    base_model.model.model.layers.4.self_attn.v_proj.lora_A.default.weight\n",
      "    base_model.model.model.layers.4.self_attn.v_proj.lora_B.default.weight\n",
      "    base_model.model.model.layers.5.self_attn.q_proj.lora_A.default.weight\n",
      "    base_model.model.model.layers.5.self_attn.q_proj.lora_B.default.weight\n",
      "    base_model.model.model.layers.5.self_attn.v_proj.lora_A.default.weight\n",
      "    base_model.model.model.layers.5.self_attn.v_proj.lora_B.default.weight\n",
      "    base_model.model.model.layers.6.self_attn.q_proj.lora_A.default.weight\n",
      "    base_model.model.model.layers.6.self_attn.q_proj.lora_B.default.weight\n",
      "    base_model.model.model.layers.6.self_attn.v_proj.lora_A.default.weight\n",
      "    base_model.model.model.layers.6.self_attn.v_proj.lora_B.default.weight\n",
      "    base_model.model.model.layers.7.self_attn.q_proj.lora_A.default.weight\n",
      "    base_model.model.model.layers.7.self_attn.q_proj.lora_B.default.weight\n",
      "    base_model.model.model.layers.7.self_attn.v_proj.lora_A.default.weight\n",
      "    base_model.model.model.layers.7.self_attn.v_proj.lora_B.default.weight\n",
      "    base_model.model.model.layers.8.self_attn.q_proj.lora_A.default.weight\n",
      "    base_model.model.model.layers.8.self_attn.q_proj.lora_B.default.weight\n",
      "    base_model.model.model.layers.8.self_attn.v_proj.lora_A.default.weight\n",
      "    base_model.model.model.layers.8.self_attn.v_proj.lora_B.default.weight\n",
      "    base_model.model.model.layers.9.self_attn.q_proj.lora_A.default.weight\n",
      "    base_model.model.model.layers.9.self_attn.q_proj.lora_B.default.weight\n",
      "    base_model.model.model.layers.9.self_attn.v_proj.lora_A.default.weight\n",
      "    base_model.model.model.layers.9.self_attn.v_proj.lora_B.default.weight\n",
      "    base_model.model.model.layers.10.self_attn.q_proj.lora_A.default.weight\n",
      "    base_model.model.model.layers.10.self_attn.q_proj.lora_B.default.weight\n",
      "    base_model.model.model.layers.10.self_attn.v_proj.lora_A.default.weight\n",
      "    base_model.model.model.layers.10.self_attn.v_proj.lora_B.default.weight\n",
      "    base_model.model.model.layers.11.self_attn.q_proj.lora_A.default.weight\n",
      "    base_model.model.model.layers.11.self_attn.q_proj.lora_B.default.weight\n",
      "    base_model.model.model.layers.11.self_attn.v_proj.lora_A.default.weight\n",
      "    base_model.model.model.layers.11.self_attn.v_proj.lora_B.default.weight\n",
      "    base_model.model.model.layers.12.self_attn.q_proj.lora_A.default.weight\n",
      "    base_model.model.model.layers.12.self_attn.q_proj.lora_B.default.weight\n",
      "    base_model.model.model.layers.12.self_attn.v_proj.lora_A.default.weight\n",
      "    base_model.model.model.layers.12.self_attn.v_proj.lora_B.default.weight\n",
      "    base_model.model.model.layers.13.self_attn.q_proj.lora_A.default.weight\n",
      "    base_model.model.model.layers.13.self_attn.q_proj.lora_B.default.weight\n",
      "    base_model.model.model.layers.13.self_attn.v_proj.lora_A.default.weight\n",
      "    base_model.model.model.layers.13.self_attn.v_proj.lora_B.default.weight\n",
      "    base_model.model.model.layers.14.self_attn.q_proj.lora_A.default.weight\n",
      "    base_model.model.model.layers.14.self_attn.q_proj.lora_B.default.weight\n",
      "    base_model.model.model.layers.14.self_attn.v_proj.lora_A.default.weight\n",
      "    base_model.model.model.layers.14.self_attn.v_proj.lora_B.default.weight\n",
      "    base_model.model.model.layers.15.self_attn.q_proj.lora_A.default.weight\n",
      "    base_model.model.model.layers.15.self_attn.q_proj.lora_B.default.weight\n",
      "    base_model.model.model.layers.15.self_attn.v_proj.lora_A.default.weight\n",
      "    base_model.model.model.layers.15.self_attn.v_proj.lora_B.default.weight\n",
      "    base_model.model.model.layers.16.self_attn.q_proj.lora_A.default.weight\n",
      "    base_model.model.model.layers.16.self_attn.q_proj.lora_B.default.weight\n",
      "    base_model.model.model.layers.16.self_attn.v_proj.lora_A.default.weight\n",
      "    base_model.model.model.layers.16.self_attn.v_proj.lora_B.default.weight\n",
      "    base_model.model.model.layers.17.self_attn.q_proj.lora_A.default.weight\n",
      "    base_model.model.model.layers.17.self_attn.q_proj.lora_B.default.weight\n",
      "    base_model.model.model.layers.17.self_attn.v_proj.lora_A.default.weight\n",
      "    base_model.model.model.layers.17.self_attn.v_proj.lora_B.default.weight\n",
      "    base_model.model.model.layers.18.self_attn.q_proj.lora_A.default.weight\n",
      "    base_model.model.model.layers.18.self_attn.q_proj.lora_B.default.weight\n",
      "    base_model.model.model.layers.18.self_attn.v_proj.lora_A.default.weight\n",
      "    base_model.model.model.layers.18.self_attn.v_proj.lora_B.default.weight\n",
      "    base_model.model.model.layers.19.self_attn.q_proj.lora_A.default.weight\n",
      "    base_model.model.model.layers.19.self_attn.q_proj.lora_B.default.weight\n",
      "    base_model.model.model.layers.19.self_attn.v_proj.lora_A.default.weight\n",
      "    base_model.model.model.layers.19.self_attn.v_proj.lora_B.default.weight\n",
      "    base_model.model.model.layers.20.self_attn.q_proj.lora_A.default.weight\n",
      "    base_model.model.model.layers.20.self_attn.q_proj.lora_B.default.weight\n",
      "    base_model.model.model.layers.20.self_attn.v_proj.lora_A.default.weight\n",
      "    base_model.model.model.layers.20.self_attn.v_proj.lora_B.default.weight\n",
      "    base_model.model.model.layers.21.self_attn.q_proj.lora_A.default.weight\n",
      "    base_model.model.model.layers.21.self_attn.q_proj.lora_B.default.weight\n",
      "    base_model.model.model.layers.21.self_attn.v_proj.lora_A.default.weight\n",
      "    base_model.model.model.layers.21.self_attn.v_proj.lora_B.default.weight\n",
      "    base_model.model.model.layers.22.self_attn.q_proj.lora_A.default.weight\n",
      "    base_model.model.model.layers.22.self_attn.q_proj.lora_B.default.weight\n",
      "    base_model.model.model.layers.22.self_attn.v_proj.lora_A.default.weight\n",
      "    base_model.model.model.layers.22.self_attn.v_proj.lora_B.default.weight\n",
      "    base_model.model.model.layers.23.self_attn.q_proj.lora_A.default.weight\n",
      "    base_model.model.model.layers.23.self_attn.q_proj.lora_B.default.weight\n",
      "    base_model.model.model.layers.23.self_attn.v_proj.lora_A.default.weight\n",
      "    base_model.model.model.layers.23.self_attn.v_proj.lora_B.default.weight\n",
      "    base_model.model.model.layers.24.self_attn.q_proj.lora_A.default.weight\n",
      "    base_model.model.model.layers.24.self_attn.q_proj.lora_B.default.weight\n",
      "    base_model.model.model.layers.24.self_attn.v_proj.lora_A.default.weight\n",
      "    base_model.model.model.layers.24.self_attn.v_proj.lora_B.default.weight\n",
      "    base_model.model.model.layers.25.self_attn.q_proj.lora_A.default.weight\n",
      "    base_model.model.model.layers.25.self_attn.q_proj.lora_B.default.weight\n",
      "    base_model.model.model.layers.25.self_attn.v_proj.lora_A.default.weight\n",
      "    base_model.model.model.layers.25.self_attn.v_proj.lora_B.default.weight\n",
      "    base_model.model.model.layers.26.self_attn.q_proj.lora_A.default.weight\n",
      "    base_model.model.model.layers.26.self_attn.q_proj.lora_B.default.weight\n",
      "    base_model.model.model.layers.26.self_attn.v_proj.lora_A.default.weight\n",
      "    base_model.model.model.layers.26.self_attn.v_proj.lora_B.default.weight\n",
      "    base_model.model.model.layers.27.self_attn.q_proj.lora_A.default.weight\n",
      "    base_model.model.model.layers.27.self_attn.q_proj.lora_B.default.weight\n",
      "    base_model.model.model.layers.27.self_attn.v_proj.lora_A.default.weight\n",
      "    base_model.model.model.layers.27.self_attn.v_proj.lora_B.default.weight\n"
     ]
    },
    {
     "name": "stderr",
     "output_type": "stream",
     "text": [
      "Using auto half precision backend\n",
      "No label_names provided for model class `PeftModelForCausalLM`. Since `PeftModel` hides base models input arguments, if label_names is not given, label_names can't be set automatically within `Trainer`. Note that empty label_names list will be used instead.\n",
      "Currently training with a batch size of: 1\n",
      "***** Running training *****\n",
      "  Num examples = 475\n",
      "  Num Epochs = 1\n",
      "  Instantaneous batch size per device = 1\n",
      "  Total train batch size (w. parallel, distributed & accumulation) = 4\n",
      "  Gradient Accumulation steps = 4\n",
      "  Total optimization steps = 119\n",
      "  Number of trainable parameters = 2,293,760\n"
     ]
    },
    {
     "data": {
      "text/plain": [
       "<IPython.core.display.HTML object>"
      ],
      "text/html": [
       "\n",
       "    <div>\n",
       "      \n",
       "      <progress value='119' max='119' style='width:300px; height:20px; vertical-align: middle;'></progress>\n",
       "      [119/119 06:08, Epoch 1/1]\n",
       "    </div>\n",
       "    <table border=\"1\" class=\"dataframe\">\n",
       "  <thead>\n",
       " <tr style=\"text-align: left;\">\n",
       "      <th>Step</th>\n",
       "      <th>Training Loss</th>\n",
       "      <th>Validation Loss</th>\n",
       "      <th>Accuracy</th>\n",
       "    </tr>\n",
       "  </thead>\n",
       "  <tbody>\n",
       "    <tr>\n",
       "      <td>50</td>\n",
       "      <td>3.445900</td>\n",
       "      <td>0.637111</td>\n",
       "      <td>0.920937</td>\n",
       "    </tr>\n",
       "    <tr>\n",
       "      <td>100</td>\n",
       "      <td>0.570000</td>\n",
       "      <td>0.558839</td>\n",
       "      <td>0.921875</td>\n",
       "    </tr>\n",
       "  </tbody>\n",
       "</table><p>"
      ]
     },
     "metadata": {},
     "output_type": "display_data"
    },
    {
     "name": "stderr",
     "output_type": "stream",
     "text": [
      "\n",
      "***** Running Evaluation *****\n",
      "  Num examples = 25\n",
      "  Batch size = 1\n",
      "\n",
      "***** Running Evaluation *****\n",
      "  Num examples = 25\n",
      "  Batch size = 1\n",
      "Saving model checkpoint to experiments\\sweep_t0.8_lr0.0001\\checkpoint-119\n",
      "loading configuration file config.json from cache at C:\\Users\\jinet\\.cache\\huggingface\\hub\\models--meta-llama--Llama-3.2-3B-Instruct\\snapshots\\0cb88a4f764b7a12671c53f0838cd831a0843b95\\config.json\n",
      "Model config LlamaConfig {\n",
      "  \"architectures\": [\n",
      "    \"LlamaForCausalLM\"\n",
      "  ],\n",
      "  \"attention_bias\": false,\n",
      "  \"attention_dropout\": 0.0,\n",
      "  \"bos_token_id\": 128000,\n",
      "  \"eos_token_id\": [\n",
      "    128001,\n",
      "    128008,\n",
      "    128009\n",
      "  ],\n",
      "  \"head_dim\": 128,\n",
      "  \"hidden_act\": \"silu\",\n",
      "  \"hidden_size\": 3072,\n",
      "  \"initializer_range\": 0.02,\n",
      "  \"intermediate_size\": 8192,\n",
      "  \"max_position_embeddings\": 131072,\n",
      "  \"mlp_bias\": false,\n",
      "  \"model_type\": \"llama\",\n",
      "  \"num_attention_heads\": 24,\n",
      "  \"num_hidden_layers\": 28,\n",
      "  \"num_key_value_heads\": 8,\n",
      "  \"pretraining_tp\": 1,\n",
      "  \"rms_norm_eps\": 1e-05,\n",
      "  \"rope_scaling\": {\n",
      "    \"factor\": 32.0,\n",
      "    \"high_freq_factor\": 4.0,\n",
      "    \"low_freq_factor\": 1.0,\n",
      "    \"original_max_position_embeddings\": 8192,\n",
      "    \"rope_type\": \"llama3\"\n",
      "  },\n",
      "  \"rope_theta\": 500000.0,\n",
      "  \"tie_word_embeddings\": true,\n",
      "  \"torch_dtype\": \"bfloat16\",\n",
      "  \"transformers_version\": \"4.52.4\",\n",
      "  \"use_cache\": true,\n",
      "  \"vocab_size\": 128256\n",
      "}\n",
      "\n",
      "\n",
      "\n",
      "Training completed. Do not forget to share your model on huggingface.co/models =)\n",
      "\n",
      "\n"
     ]
    },
    {
     "data": {
      "text/plain": [
       "<Figure size 1200x400 with 2 Axes>"
      ],
      "image/png": "[encoded data removed]"
     },
     "metadata": {},
     "output_type": "display_data"
    },
    {
     "name": "stdout",
     "output_type": "stream",
     "text": [
      "[LoRA] Subplots salvati in experiments\\sweep_t0.8_lr0.0001\\lora_subplots.png\n",
      "[LoRA] Perplexity finale (train): 1.77\n"
     ]
    },
    {
     "name": "stderr",
     "output_type": "stream",
     "text": [
      "loading configuration file config.json from cache at C:\\Users\\jinet\\.cache\\huggingface\\hub\\models--meta-llama--Llama-3.2-3B-Instruct\\snapshots\\0cb88a4f764b7a12671c53f0838cd831a0843b95\\config.json\n",
      "Model config LlamaConfig {\n",
      "  \"architectures\": [\n",
      "    \"LlamaForCausalLM\"\n",
      "  ],\n",
      "  \"attention_bias\": false,\n",
      "  \"attention_dropout\": 0.0,\n",
      "  \"bos_token_id\": 128000,\n",
      "  \"eos_token_id\": [\n",
      "    128001,\n",
      "    128008,\n",
      "    128009\n",
      "  ],\n",
      "  \"head_dim\": 128,\n",
      "  \"hidden_act\": \"silu\",\n",
      "  \"hidden_size\": 3072,\n",
      "  \"initializer_range\": 0.02,\n",
      "  \"intermediate_size\": 8192,\n",
      "  \"max_position_embeddings\": 131072,\n",
      "  \"mlp_bias\": false,\n",
      "  \"model_type\": \"llama\",\n",
      "  \"num_attention_heads\": 24,\n",
      "  \"num_hidden_layers\": 28,\n",
      "  \"num_key_value_heads\": 8,\n",
      "  \"pretraining_tp\": 1,\n",
      "  \"rms_norm_eps\": 1e-05,\n",
      "  \"rope_scaling\": {\n",
      "    \"factor\": 32.0,\n",
      "    \"high_freq_factor\": 4.0,\n",
      "    \"low_freq_factor\": 1.0,\n",
      "    \"original_max_position_embeddings\": 8192,\n",
      "    \"rope_type\": \"llama3\"\n",
      "  },\n",
      "  \"rope_theta\": 500000.0,\n",
      "  \"tie_word_embeddings\": true,\n",
      "  \"torch_dtype\": \"bfloat16\",\n",
      "  \"transformers_version\": \"4.52.4\",\n",
      "  \"use_cache\": true,\n",
      "  \"vocab_size\": 128256\n",
      "}\n",
      "\n",
      "chat template saved in experiments\\sweep_t0.8_lr0.0001\\chat_template.jinja\n",
      "tokenizer config file saved in experiments\\sweep_t0.8_lr0.0001\\tokenizer_config.json\n",
      "Special tokens file saved in experiments\\sweep_t0.8_lr0.0001\\special_tokens_map.json\n"
     ]
    },
    {
     "name": "stdout",
     "output_type": "stream",
     "text": [
      "[LoRA] Adapter LoRA e tokenizer salvati in experiments\\sweep_t0.8_lr0.0001\n"
     ]
    }
   ],
   "execution_count": 7
  },
  {
   "metadata": {
    "ExecuteTime": {
     "end_time": "2025-06-14T14:41:06.613729Z",
     "start_time": "2025-06-14T14:41:06.205517Z"
    }
   },
   "cell_type": "code",
   "source": [
    "# 4. Caricamento e visualizzazione dei plot dai diversi sweep\n",
    "\"\"\"\n",
    "Esempio di loop rapido su 2 temperature e 2 learning rate, per 1 epoca sola.\n",
    "\"\"\"\n",
    "\n",
    "# 1) Trova tutte le cartelle di sweep\n",
    "exp_root   = Path(\"experiments\")\n",
    "sweep_dirs = sorted([d for d in exp_root.iterdir() if d.name.startswith(\"sweep_\")])\n",
    "\n",
    "if not sweep_dirs:\n",
    "    print(\" Nessuna cartella sweep_ trovata in experiments/\")\n",
    "else:\n",
    "    # 2) Per ogni sweep, cerca il plot e mostralo\n",
    "    for d in sweep_dirs:\n",
    "        # prova a trovare i due tipi di plot che hai generato:\n",
    "        candidates = list(d.glob(\"**/lora_loss_acc_curve.png\")) + \\\n",
    "                     list(d.glob(\"**/lora_subplots.png\"))\n",
    "        if not candidates:\n",
    "            print(f\" Nessun plot trovato in {d}\")\n",
    "            continue\n",
    "\n",
    "        fig_path = candidates[0]\n",
    "        # titolo\n",
    "        print(f\" Risultati per {d.name}:\")\n",
    "        # carica e mostra immagine\n",
    "        img = mpimg.imread(str(fig_path))\n",
    "        plt.figure(figsize=(8,4))\n",
    "        plt.imshow(img)\n",
    "        plt.axis(\"off\")\n",
    "        plt.show()"
   ],
   "id": "2a37bb44639c7c9c",
   "outputs": [
    {
     "name": "stdout",
     "output_type": "stream",
     "text": [
      " Risultati per sweep_t0.5_lr0.0001:\n"
     ]
    },
    {
     "data": {
      "text/plain": [
       "<Figure size 800x400 with 1 Axes>"
      ],
      "image/png": "[encoded data removed]"
     },
     "metadata": {},
     "output_type": "display_data"
    },
    {
     "name": "stdout",
     "output_type": "stream",
     "text": [
      " Risultati per sweep_t0.5_lr5e-05:\n"
     ]
    },
    {
     "data": {
      "text/plain": [
       "<Figure size 800x400 with 1 Axes>"
      ],
      "image/png": "[encoded data removed]"
     },
     "metadata": {},
     "output_type": "display_data"
    },
    {
     "name": "stdout",
     "output_type": "stream",
     "text": [
      " Risultati per sweep_t0.8_lr0.0001:\n"
     ]
    },
    {
     "data": {
      "text/plain": [
       "<Figure size 800x400 with 1 Axes>"
      ],
      "image/png": "[encoded data removed]"
     },
     "metadata": {},
     "output_type": "display_data"
    },
    {
     "name": "stdout",
     "output_type": "stream",
     "text": [
      " Risultati per sweep_t0.8_lr5e-05:\n"
     ]
    },
    {
     "data": {
      "text/plain": [
       "<Figure size 800x400 with 1 Axes>"
      ],
      "image/png": "[encoded data removed]"
     },
     "metadata": {},
     "output_type": "display_data"
    }
   ],
   "execution_count": 8
  },
  {
   "metadata": {},
   "cell_type": "markdown",
   "source": [
    "\n",
    "## 📝 5. Conclusioni preliminari\n",
    "\n",
    "- **Subset training**: time per epoca ~ X minuti\n",
    "- **Curve**: trend di loss, over/underfitting\n",
    "- **Param Sweeps**: quale combo (temp, lr) dà loss più bassa?\n",
    "\n",
    "> *Qui annota direttamente nel notebook i tuoi commenti mentre guardi i grafici e i numeri.*\n"
   ],
   "id": "a827a2c71d3076d0"
  }
 ],
 "metadata": {
  "kernelspec": {
   "display_name": "Python 3",
   "language": "python",
   "name": "python3"
  },
  "language_info": {
   "codemirror_mode": {
    "name": "ipython",
    "version": 2
   },
   "file_extension": ".py",
   "mimetype": "text/x-python",
   "name": "python",
   "nbconvert_exporter": "python",
   "pygments_lexer": "ipython2",
   "version": "2.7.6"
  }
 },
 "nbformat": 4,
 "nbformat_minor": 5
}
