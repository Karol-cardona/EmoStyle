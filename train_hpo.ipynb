{
 "cells": [
  {
   "cell_type": "code",
   "execution_count": null,
   "id": "initial_id",
   "metadata": {
    "collapsed": true
   },
   "outputs": [],
   "source": [
    "import optuna\n",
    "from pathlib import Path\n",
    "import torch\n",
    "import numpy as np\n",
    "from datasets import Dataset\n",
    "from transformers import (\n",
    "    LlamaForCausalLM,\n",
    "    LlamaTokenizer,\n",
    "    TrainingArguments,\n",
    "    Trainer,\n",
    "    DataCollatorForLanguageModeling\n",
    ")\n",
    "from peft import LoraConfig, get_peft_model, TaskType"
   ]
  },
  {
   "metadata": {},
   "cell_type": "code",
   "outputs": [],
   "execution_count": null,
   "source": [
    "# 1) Prepara tokenizer e dati\n",
    "\n",
    "tokenizer = LlamaTokenizer.from_pretrained(\"huggyllama/llama-7b\")\n",
    "if tokenizer.pad_token_id is None:\n",
    "    tokenizer.add_special_tokens({\"pad_token\": \"<pad>\"})\n",
    "\n",
    "# Carica dataset già tokenizzato (esempio)\n",
    "# Supponiamo di avere `tokenized_ds` con split \"train\" e \"test\"\n",
    "# tokenized_ds = your existing DatasetDict\n"
   ],
   "id": "92cb154ad41b5bd4"
  },
  {
   "metadata": {},
   "cell_type": "code",
   "outputs": [],
   "execution_count": null,
   "source": [
    "# 2) Definisci model_init()\n",
    "\n",
    "def model_init():\n",
    "    # carica base LLaMA\n",
    "    model = LlamaForCausalLM.from_pretrained(\"huggyllama/llama-7b\",\n",
    "                                             torch_dtype=torch.float16)\n",
    "    # applica LoRA\n",
    "    lora_conf = LoraConfig(\n",
    "        task_type=TaskType.CAUSAL_LM,\n",
    "        inference_mode=False,\n",
    "        r=8, lora_alpha=16, lora_dropout=0.05,\n",
    "        target_modules=[\"q_proj\", \"v_proj\"]\n",
    "    )\n",
    "    return get_peft_model(model, lora_conf)"
   ],
   "id": "4d2d379d73584c92"
  },
  {
   "metadata": {},
   "cell_type": "code",
   "outputs": [],
   "execution_count": null,
   "source": [
    "# 3) Funzione di metriche\n",
    "\n",
    "def compute_metrics(eval_pred):\n",
    "    import numpy as np\n",
    "    logits, labels = eval_pred\n",
    "    preds = np.argmax(logits, axis=-1)\n",
    "    mask  = labels != -100\n",
    "    correct = (preds == labels) & mask\n",
    "    acc = correct.sum() / mask.sum() if mask.sum()>0 else 0.0\n",
    "    return {\"accuracy\": float(acc)}"
   ],
   "id": "ea1f1123f744f1d0"
  },
  {
   "metadata": {},
   "cell_type": "code",
   "outputs": [],
   "execution_count": null,
   "source": [
    "# 4) Spazio di ricerca (hp_space)\n",
    "\n",
    "def hp_space(trial):\n",
    "    return {\n",
    "        \"learning_rate\":          trial.suggest_loguniform(\"learning_rate\", 1e-5, 5e-4),\n",
    "        \"num_train_epochs\":       trial.suggest_int(\"num_train_epochs\", 1, 3),\n",
    "        \"per_device_train_batch_size\": trial.suggest_categorical(\"per_device_train_batch_size\", [1,2,4])\n",
    "    }"
   ],
   "id": "8804027f80c80e5d"
  },
  {
   "metadata": {},
   "cell_type": "code",
   "outputs": [],
   "execution_count": null,
   "source": [
    "# 5) Crea Trainer con placeholder args\n",
    "\n",
    "base_args = TrainingArguments(\n",
    "    output_dir=\"hpo\",\n",
    "    eval_strategy=\"epoch\",\n",
    "    save_strategy=\"no\",\n",
    "    logging_strategy=\"epoch\",\n",
    "    learning_rate=1e-4,\n",
    "    per_device_train_batch_size=2,\n",
    "    per_device_eval_batch_size=2,\n",
    "    num_train_epochs=1,\n",
    "    fp16=True,\n",
    "    report_to=\"none\"  # disabilita TensorBoard qui\n",
    ")\n",
    "\n",
    "trainer = Trainer(\n",
    "    model_init=model_init,\n",
    "    args=base_args,\n",
    "    train_dataset=tokenized_ds[\"train\"],\n",
    "    eval_dataset= tokenized_ds[\"test\"],\n",
    "    data_collator=DataCollatorForLanguageModeling(tokenizer, mlm=False),\n",
    "    compute_metrics=compute_metrics\n",
    ")\n"
   ],
   "id": "bfd8fd1ff279c160"
  },
  {
   "metadata": {},
   "cell_type": "code",
   "outputs": [],
   "execution_count": null,
   "source": [
    "# 6) Avvia hyperparameter_search\n",
    "\n",
    "best_run = trainer.hyperparameter_search(\n",
    "    direction=\"maximize\",        # vogliamo massimizzare l'accuracy\n",
    "    backend=\"optuna\",\n",
    "    hp_space=hp_space,\n",
    "    n_trials=10                  # numero di esperimenti\n",
    ")\n",
    "\n",
    "print(\"Migliori iperparametri:\", best_run.hyperparameters)\n",
    "print(\"Best metric:\", best_run.objective)"
   ],
   "id": "d6c431e489993f29"
  }
 ],
 "metadata": {
  "kernelspec": {
   "display_name": "Python 3",
   "language": "python",
   "name": "python3"
  },
  "language_info": {
   "codemirror_mode": {
    "name": "ipython",
    "version": 2
   },
   "file_extension": ".py",
   "mimetype": "text/x-python",
   "name": "python",
   "nbconvert_exporter": "python",
   "pygments_lexer": "ipython2",
   "version": "2.7.6"
  }
 },
 "nbformat": 4,
 "nbformat_minor": 5
}
